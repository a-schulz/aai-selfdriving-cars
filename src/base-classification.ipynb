{
 "cells": [
  {
   "cell_type": "code",
   "execution_count": 22,
   "metadata": {
    "collapsed": true,
    "ExecuteTime": {
     "end_time": "2023-07-05T16:51:55.169436200Z",
     "start_time": "2023-07-05T16:51:55.139713700Z"
    }
   },
   "outputs": [],
   "source": [
    "import os\n",
    "\n",
    "import cv2\n",
    "import numpy as np\n",
    "from dotenv import load_dotenv\n",
    "\n",
    "# Classification for the base classes\n",
    "\n",
    "load_dotenv()\n",
    "\n",
    "# Specify the path to the dataset directory\n",
    "dataset_dir = os.getenv('DATASET_DIR')\n",
    "\n",
    "target_size = (128, 128)"
   ]
  },
  {
   "cell_type": "code",
   "execution_count": 23,
   "outputs": [],
   "source": [
    "# Get all images\n",
    "def read_images_from_directory(directory):\n",
    "    images = []\n",
    "    labels = []\n",
    "    class_names = []\n",
    "    path = []\n",
    "    for root, dirs, files in os.walk(directory):\n",
    "        for class_name in dirs:\n",
    "            class_directory = os.path.join(root, class_name)\n",
    "            for filename in os.listdir(class_directory):\n",
    "                file_path = os.path.join(class_directory, filename)\n",
    "                if os.path.isfile(file_path):\n",
    "                    image = cv2.imread(file_path, cv2.COLOR_BGR2GRAY)\n",
    "                    if image is not None:\n",
    "                        image = cv2.resize(image, target_size)\n",
    "                        images.append(image)\n",
    "                        labels.append(os.path.basename(root) + \".\" + class_name)\n",
    "                        path.append(file_path)\n",
    "                        if class_name not in class_names:\n",
    "                            class_names.append(class_name)\n",
    "\n",
    "    images = np.array(images)\n",
    "    labels = np.array(labels)\n",
    "    class_names = np.array(class_names)\n",
    "    path = np.array(path)\n",
    "\n",
    "    return images, labels, class_names, path"
   ],
   "metadata": {
    "collapsed": false,
    "ExecuteTime": {
     "end_time": "2023-07-05T16:51:55.229728100Z",
     "start_time": "2023-07-05T16:51:55.154217200Z"
    }
   }
  },
  {
   "cell_type": "code",
   "execution_count": 24,
   "outputs": [
    {
     "name": "stdout",
     "output_type": "stream",
     "text": [
      "Number of images: 21\n",
      "Number of labels: 21\n",
      "Class names: ['big' 'small' 'agriculture_vehicle' 'bus' 'sportscar' 'curvy' 'adult'\n",
      " 'child' 'handicaped' 'senior' 'danger' 'information' 'restriction'\n",
      " 'speed_limit' 'yield' 'green' 'red' 'yellow']\n",
      "Labels: ['animal.big' 'animal.small' 'car.agriculture_vehicle' 'car.bus'\n",
      " 'car.sportscar' 'lane.curvy' 'pedestrian.adult' 'pedestrian.child'\n",
      " 'pedestrian.handicaped' 'pedestrian.handicaped' 'pedestrian.senior'\n",
      " 'traffic_sign.danger' 'traffic_sign.information'\n",
      " 'traffic_sign.restriction' 'traffic_sign.restriction'\n",
      " 'traffic_sign.restriction' 'traffic_sign.speed_limit'\n",
      " 'traffic_sign.yield' 'trafic_light.green' 'trafic_light.red'\n",
      " 'trafic_light.yellow']\n"
     ]
    }
   ],
   "source": [
    "images, labels, class_names, path = read_images_from_directory(dataset_dir)\n",
    "images_with_labels = list(zip(images, labels))\n",
    "print(\"Number of images:\", len(images))\n",
    "print(\"Number of labels:\", len(labels))\n",
    "print(\"Class names:\", class_names)\n",
    "print(\"Labels:\", labels)"
   ],
   "metadata": {
    "collapsed": false,
    "ExecuteTime": {
     "end_time": "2023-07-05T16:51:56.556398900Z",
     "start_time": "2023-07-05T16:51:55.177253900Z"
    }
   }
  },
  {
   "cell_type": "code",
   "execution_count": 25,
   "outputs": [
    {
     "name": "stdout",
     "output_type": "stream",
     "text": [
      "First image:  [[[ 18  36  44]\n",
      "  [ 11  30  34]\n",
      "  [ 12  31  35]\n",
      "  ...\n",
      "  [  7  19  27]\n",
      "  [  9  21  29]\n",
      "  [ 15  26  34]]\n",
      "\n",
      " [[ 13  30  33]\n",
      "  [ 12  39  45]\n",
      "  [ 10  39  44]\n",
      "  ...\n",
      "  [ 10  20  27]\n",
      "  [  9  21  29]\n",
      "  [ 14  26  32]]\n",
      "\n",
      " [[ 11  32  34]\n",
      "  [ 21  57  60]\n",
      "  [ 20  56  62]\n",
      "  ...\n",
      "  [ 11  22  36]\n",
      "  [ 11  23  32]\n",
      "  [ 11  23  33]]\n",
      "\n",
      " ...\n",
      "\n",
      " [[ 66 149 142]\n",
      "  [ 75 163 158]\n",
      "  [ 64 148 146]\n",
      "  ...\n",
      "  [ 40  99  83]\n",
      "  [ 44 106  93]\n",
      "  [ 33  89  78]]\n",
      "\n",
      " [[ 62 147 140]\n",
      "  [ 59 149 142]\n",
      "  [ 63 156 144]\n",
      "  ...\n",
      "  [ 54 102  96]\n",
      "  [ 17  82  71]\n",
      "  [ 66 132 133]]\n",
      "\n",
      " [[ 68 152 141]\n",
      "  [ 60 146 138]\n",
      "  [ 77 151 154]\n",
      "  ...\n",
      "  [ 41 111 103]\n",
      "  [ 50 118 113]\n",
      "  [ 45 117 110]]]\n",
      "First image - label:  animal.big\n"
     ]
    }
   ],
   "source": [
    "print(\"First image: \", images_with_labels[0][0])\n",
    "print(\"First image - label: \", images_with_labels[0][1])"
   ],
   "metadata": {
    "collapsed": false,
    "ExecuteTime": {
     "end_time": "2023-07-05T16:51:56.580100100Z",
     "start_time": "2023-07-05T16:51:56.557396700Z"
    }
   }
  },
  {
   "cell_type": "code",
   "execution_count": 26,
   "outputs": [
    {
     "name": "stdout",
     "output_type": "stream",
     "text": [
      "animal.big\n",
      "1/1 [==============================] - 1s 558ms/step\n",
      "gazelle\n",
      "impala\n",
      "hartebeest\n",
      "animal.small\n",
      "1/1 [==============================] - 1s 698ms/step\n",
      "weasel\n",
      "badger\n",
      "skunk\n",
      "car.agriculture_vehicle\n",
      "1/1 [==============================] - 1s 505ms/step\n",
      "tractor\n",
      "harvester\n",
      "plow\n",
      "car.bus\n",
      "1/1 [==============================] - 1s 509ms/step\n",
      "streetcar\n",
      "trolleybus\n",
      "passenger car\n",
      "car.sportscar\n",
      "1/1 [==============================] - 1s 582ms/step\n",
      "sports car\n",
      "racer\n",
      "convertible\n",
      "lane.curvy\n",
      "1/1 [==============================] - 0s 484ms/step\n",
      "dam\n",
      "valley\n",
      "promontory\n",
      "pedestrian.adult\n",
      "1/1 [==============================] - 1s 662ms/step\n",
      "web site\n",
      "jean\n",
      "pajama\n",
      "pedestrian.child\n",
      "1/1 [==============================] - 0s 482ms/step\n",
      "umbrella\n",
      "jean\n",
      "balance beam\n",
      "pedestrian.handicaped\n",
      "1/1 [==============================] - 1s 656ms/step\n",
      "jinrikisha\n",
      "rocking chair\n",
      "shopping cart\n",
      "pedestrian.handicaped\n",
      "1/1 [==============================] - 1s 618ms/step\n",
      "backpack\n",
      "swimming trunks\n",
      "academic gown\n",
      "pedestrian.senior\n",
      "1/1 [==============================] - 1s 511ms/step\n",
      "fur coat\n",
      "crutch\n",
      "jean\n",
      "traffic_sign.danger\n"
     ]
    },
    {
     "ename": "KeyboardInterrupt",
     "evalue": "",
     "output_type": "error",
     "traceback": [
      "\u001B[1;31m---------------------------------------------------------------------------\u001B[0m",
      "\u001B[1;31mKeyboardInterrupt\u001B[0m                         Traceback (most recent call last)",
      "Cell \u001B[1;32mIn[26], line 34\u001B[0m\n\u001B[0;32m     32\u001B[0m \u001B[38;5;28;01mfor\u001B[39;00m i \u001B[38;5;129;01min\u001B[39;00m \u001B[38;5;28mrange\u001B[39m(\u001B[38;5;241m0\u001B[39m, \u001B[38;5;28mlen\u001B[39m(path)):\n\u001B[0;32m     33\u001B[0m     \u001B[38;5;28mprint\u001B[39m(labels[i])\n\u001B[1;32m---> 34\u001B[0m     \u001B[43mannotate_image\u001B[49m\u001B[43m(\u001B[49m\u001B[43mpath\u001B[49m\u001B[43m[\u001B[49m\u001B[43mi\u001B[49m\u001B[43m]\u001B[49m\u001B[43m)\u001B[49m\n",
      "Cell \u001B[1;32mIn[26], line 7\u001B[0m, in \u001B[0;36mannotate_image\u001B[1;34m(image_path)\u001B[0m\n\u001B[0;32m      5\u001B[0m \u001B[38;5;28;01mdef\u001B[39;00m \u001B[38;5;21mannotate_image\u001B[39m(image_path):\n\u001B[0;32m      6\u001B[0m     \u001B[38;5;66;03m# Load the pre-trained VGG16 model\u001B[39;00m\n\u001B[1;32m----> 7\u001B[0m     model \u001B[38;5;241m=\u001B[39m \u001B[43mVGG16\u001B[49m\u001B[43m(\u001B[49m\u001B[43m)\u001B[49m\n\u001B[0;32m      9\u001B[0m     \u001B[38;5;66;03m# Load and preprocess the image\u001B[39;00m\n\u001B[0;32m     10\u001B[0m     img \u001B[38;5;241m=\u001B[39m cv2\u001B[38;5;241m.\u001B[39mimread(image_path)\n",
      "File \u001B[1;32m~\\AppData\\Local\\pypoetry\\Cache\\virtualenvs\\aai-selfdriving-cars-HJzYqVPS-py3.10\\lib\\site-packages\\keras\\applications\\vgg16.py:235\u001B[0m, in \u001B[0;36mVGG16\u001B[1;34m(include_top, weights, input_tensor, input_shape, pooling, classes, classifier_activation)\u001B[0m\n\u001B[0;32m    233\u001B[0m \u001B[38;5;28;01mif\u001B[39;00m weights \u001B[38;5;241m==\u001B[39m \u001B[38;5;124m\"\u001B[39m\u001B[38;5;124mimagenet\u001B[39m\u001B[38;5;124m\"\u001B[39m:\n\u001B[0;32m    234\u001B[0m     \u001B[38;5;28;01mif\u001B[39;00m include_top:\n\u001B[1;32m--> 235\u001B[0m         weights_path \u001B[38;5;241m=\u001B[39m \u001B[43mdata_utils\u001B[49m\u001B[38;5;241;43m.\u001B[39;49m\u001B[43mget_file\u001B[49m\u001B[43m(\u001B[49m\n\u001B[0;32m    236\u001B[0m \u001B[43m            \u001B[49m\u001B[38;5;124;43m\"\u001B[39;49m\u001B[38;5;124;43mvgg16_weights_tf_dim_ordering_tf_kernels.h5\u001B[39;49m\u001B[38;5;124;43m\"\u001B[39;49m\u001B[43m,\u001B[49m\n\u001B[0;32m    237\u001B[0m \u001B[43m            \u001B[49m\u001B[43mWEIGHTS_PATH\u001B[49m\u001B[43m,\u001B[49m\n\u001B[0;32m    238\u001B[0m \u001B[43m            \u001B[49m\u001B[43mcache_subdir\u001B[49m\u001B[38;5;241;43m=\u001B[39;49m\u001B[38;5;124;43m\"\u001B[39;49m\u001B[38;5;124;43mmodels\u001B[39;49m\u001B[38;5;124;43m\"\u001B[39;49m\u001B[43m,\u001B[49m\n\u001B[0;32m    239\u001B[0m \u001B[43m            \u001B[49m\u001B[43mfile_hash\u001B[49m\u001B[38;5;241;43m=\u001B[39;49m\u001B[38;5;124;43m\"\u001B[39;49m\u001B[38;5;124;43m64373286793e3c8b2b4e3219cbf3544b\u001B[39;49m\u001B[38;5;124;43m\"\u001B[39;49m\u001B[43m,\u001B[49m\n\u001B[0;32m    240\u001B[0m \u001B[43m        \u001B[49m\u001B[43m)\u001B[49m\n\u001B[0;32m    241\u001B[0m     \u001B[38;5;28;01melse\u001B[39;00m:\n\u001B[0;32m    242\u001B[0m         weights_path \u001B[38;5;241m=\u001B[39m data_utils\u001B[38;5;241m.\u001B[39mget_file(\n\u001B[0;32m    243\u001B[0m             \u001B[38;5;124m\"\u001B[39m\u001B[38;5;124mvgg16_weights_tf_dim_ordering_tf_kernels_notop.h5\u001B[39m\u001B[38;5;124m\"\u001B[39m,\n\u001B[0;32m    244\u001B[0m             WEIGHTS_PATH_NO_TOP,\n\u001B[0;32m    245\u001B[0m             cache_subdir\u001B[38;5;241m=\u001B[39m\u001B[38;5;124m\"\u001B[39m\u001B[38;5;124mmodels\u001B[39m\u001B[38;5;124m\"\u001B[39m,\n\u001B[0;32m    246\u001B[0m             file_hash\u001B[38;5;241m=\u001B[39m\u001B[38;5;124m\"\u001B[39m\u001B[38;5;124m6d6bbae143d832006294945121d1f1fc\u001B[39m\u001B[38;5;124m\"\u001B[39m,\n\u001B[0;32m    247\u001B[0m         )\n",
      "File \u001B[1;32m~\\AppData\\Local\\pypoetry\\Cache\\virtualenvs\\aai-selfdriving-cars-HJzYqVPS-py3.10\\lib\\site-packages\\keras\\utils\\data_utils.py:305\u001B[0m, in \u001B[0;36mget_file\u001B[1;34m(fname, origin, untar, md5_hash, file_hash, cache_subdir, hash_algorithm, extract, archive_format, cache_dir)\u001B[0m\n\u001B[0;32m    302\u001B[0m \u001B[38;5;28;01mif\u001B[39;00m os\u001B[38;5;241m.\u001B[39mpath\u001B[38;5;241m.\u001B[39mexists(fpath):\n\u001B[0;32m    303\u001B[0m     \u001B[38;5;66;03m# File found; verify integrity if a hash was provided.\u001B[39;00m\n\u001B[0;32m    304\u001B[0m     \u001B[38;5;28;01mif\u001B[39;00m file_hash \u001B[38;5;129;01mis\u001B[39;00m \u001B[38;5;129;01mnot\u001B[39;00m \u001B[38;5;28;01mNone\u001B[39;00m:\n\u001B[1;32m--> 305\u001B[0m         \u001B[38;5;28;01mif\u001B[39;00m \u001B[38;5;129;01mnot\u001B[39;00m \u001B[43mvalidate_file\u001B[49m\u001B[43m(\u001B[49m\u001B[43mfpath\u001B[49m\u001B[43m,\u001B[49m\u001B[43m \u001B[49m\u001B[43mfile_hash\u001B[49m\u001B[43m,\u001B[49m\u001B[43m \u001B[49m\u001B[43malgorithm\u001B[49m\u001B[38;5;241;43m=\u001B[39;49m\u001B[43mhash_algorithm\u001B[49m\u001B[43m)\u001B[49m:\n\u001B[0;32m    306\u001B[0m             io_utils\u001B[38;5;241m.\u001B[39mprint_msg(\n\u001B[0;32m    307\u001B[0m                 \u001B[38;5;124m\"\u001B[39m\u001B[38;5;124mA local file was found, but it seems to be \u001B[39m\u001B[38;5;124m\"\u001B[39m\n\u001B[0;32m    308\u001B[0m                 \u001B[38;5;124mf\u001B[39m\u001B[38;5;124m\"\u001B[39m\u001B[38;5;124mincomplete or outdated because the \u001B[39m\u001B[38;5;132;01m{\u001B[39;00mhash_algorithm\u001B[38;5;132;01m}\u001B[39;00m\u001B[38;5;124m \u001B[39m\u001B[38;5;124m\"\u001B[39m\n\u001B[1;32m   (...)\u001B[0m\n\u001B[0;32m    311\u001B[0m                 \u001B[38;5;124m\"\u001B[39m\u001B[38;5;124mso we will re-download the data.\u001B[39m\u001B[38;5;124m\"\u001B[39m\n\u001B[0;32m    312\u001B[0m             )\n\u001B[0;32m    313\u001B[0m             download \u001B[38;5;241m=\u001B[39m \u001B[38;5;28;01mTrue\u001B[39;00m\n",
      "File \u001B[1;32m~\\AppData\\Local\\pypoetry\\Cache\\virtualenvs\\aai-selfdriving-cars-HJzYqVPS-py3.10\\lib\\site-packages\\keras\\utils\\data_utils.py:442\u001B[0m, in \u001B[0;36mvalidate_file\u001B[1;34m(fpath, file_hash, algorithm, chunk_size)\u001B[0m\n\u001B[0;32m    427\u001B[0m \u001B[38;5;250m\u001B[39m\u001B[38;5;124;03m\"\"\"Validates a file against a sha256 or md5 hash.\u001B[39;00m\n\u001B[0;32m    428\u001B[0m \n\u001B[0;32m    429\u001B[0m \u001B[38;5;124;03mArgs:\u001B[39;00m\n\u001B[1;32m   (...)\u001B[0m\n\u001B[0;32m    438\u001B[0m \u001B[38;5;124;03m    Whether the file is valid\u001B[39;00m\n\u001B[0;32m    439\u001B[0m \u001B[38;5;124;03m\"\"\"\u001B[39;00m\n\u001B[0;32m    440\u001B[0m hasher \u001B[38;5;241m=\u001B[39m _resolve_hasher(algorithm, file_hash)\n\u001B[1;32m--> 442\u001B[0m \u001B[38;5;28;01mif\u001B[39;00m \u001B[38;5;28mstr\u001B[39m(\u001B[43m_hash_file\u001B[49m\u001B[43m(\u001B[49m\u001B[43mfpath\u001B[49m\u001B[43m,\u001B[49m\u001B[43m \u001B[49m\u001B[43mhasher\u001B[49m\u001B[43m,\u001B[49m\u001B[43m \u001B[49m\u001B[43mchunk_size\u001B[49m\u001B[43m)\u001B[49m) \u001B[38;5;241m==\u001B[39m \u001B[38;5;28mstr\u001B[39m(file_hash):\n\u001B[0;32m    443\u001B[0m     \u001B[38;5;28;01mreturn\u001B[39;00m \u001B[38;5;28;01mTrue\u001B[39;00m\n\u001B[0;32m    444\u001B[0m \u001B[38;5;28;01melse\u001B[39;00m:\n",
      "File \u001B[1;32m~\\AppData\\Local\\pypoetry\\Cache\\virtualenvs\\aai-selfdriving-cars-HJzYqVPS-py3.10\\lib\\site-packages\\keras\\utils\\data_utils.py:420\u001B[0m, in \u001B[0;36m_hash_file\u001B[1;34m(fpath, algorithm, chunk_size)\u001B[0m\n\u001B[0;32m    417\u001B[0m     hasher \u001B[38;5;241m=\u001B[39m algorithm\n\u001B[0;32m    419\u001B[0m \u001B[38;5;28;01mwith\u001B[39;00m \u001B[38;5;28mopen\u001B[39m(fpath, \u001B[38;5;124m\"\u001B[39m\u001B[38;5;124mrb\u001B[39m\u001B[38;5;124m\"\u001B[39m) \u001B[38;5;28;01mas\u001B[39;00m fpath_file:\n\u001B[1;32m--> 420\u001B[0m     \u001B[38;5;28;01mfor\u001B[39;00m chunk \u001B[38;5;129;01min\u001B[39;00m \u001B[38;5;28miter\u001B[39m(\u001B[38;5;28;01mlambda\u001B[39;00m: fpath_file\u001B[38;5;241m.\u001B[39mread(chunk_size), \u001B[38;5;124mb\u001B[39m\u001B[38;5;124m\"\u001B[39m\u001B[38;5;124m\"\u001B[39m):\n\u001B[0;32m    421\u001B[0m         hasher\u001B[38;5;241m.\u001B[39mupdate(chunk)\n\u001B[0;32m    423\u001B[0m \u001B[38;5;28;01mreturn\u001B[39;00m hasher\u001B[38;5;241m.\u001B[39mhexdigest()\n",
      "File \u001B[1;32m~\\AppData\\Local\\pypoetry\\Cache\\virtualenvs\\aai-selfdriving-cars-HJzYqVPS-py3.10\\lib\\site-packages\\keras\\utils\\data_utils.py:420\u001B[0m, in \u001B[0;36m_hash_file.<locals>.<lambda>\u001B[1;34m()\u001B[0m\n\u001B[0;32m    417\u001B[0m     hasher \u001B[38;5;241m=\u001B[39m algorithm\n\u001B[0;32m    419\u001B[0m \u001B[38;5;28;01mwith\u001B[39;00m \u001B[38;5;28mopen\u001B[39m(fpath, \u001B[38;5;124m\"\u001B[39m\u001B[38;5;124mrb\u001B[39m\u001B[38;5;124m\"\u001B[39m) \u001B[38;5;28;01mas\u001B[39;00m fpath_file:\n\u001B[1;32m--> 420\u001B[0m     \u001B[38;5;28;01mfor\u001B[39;00m chunk \u001B[38;5;129;01min\u001B[39;00m \u001B[38;5;28miter\u001B[39m(\u001B[38;5;28;01mlambda\u001B[39;00m: \u001B[43mfpath_file\u001B[49m\u001B[38;5;241;43m.\u001B[39;49m\u001B[43mread\u001B[49m\u001B[43m(\u001B[49m\u001B[43mchunk_size\u001B[49m\u001B[43m)\u001B[49m, \u001B[38;5;124mb\u001B[39m\u001B[38;5;124m\"\u001B[39m\u001B[38;5;124m\"\u001B[39m):\n\u001B[0;32m    421\u001B[0m         hasher\u001B[38;5;241m.\u001B[39mupdate(chunk)\n\u001B[0;32m    423\u001B[0m \u001B[38;5;28;01mreturn\u001B[39;00m hasher\u001B[38;5;241m.\u001B[39mhexdigest()\n",
      "\u001B[1;31mKeyboardInterrupt\u001B[0m: "
     ]
    }
   ],
   "source": [
    "import cv2\n",
    "import numpy as np\n",
    "from tensorflow.keras.applications.vgg16 import VGG16, preprocess_input, decode_predictions\n",
    "\n",
    "def annotate_image(image_path):\n",
    "    # Load the pre-trained VGG16 model\n",
    "    model = VGG16()\n",
    "\n",
    "    # Load and preprocess the image\n",
    "    img = cv2.imread(image_path)\n",
    "    img = cv2.cvtColor(img, cv2.COLOR_BGR2RGB)\n",
    "    img_resized = cv2.resize(img, (224, 224))\n",
    "    img_preprocessed = preprocess_input(np.expand_dims(img_resized, axis=0))\n",
    "\n",
    "    # Make predictions on the preprocessed image\n",
    "    predictions = model.predict(img_preprocessed)\n",
    "    #     print(predictions)\n",
    "    #     input('p a k ...')\n",
    "    decoded_predictions = decode_predictions(predictions, top=3)[0]\n",
    "\n",
    "    # Annotate the image with rectangles around the predicted objects\n",
    "    annotated_img = img.copy()\n",
    "    for _, label, prob in decoded_predictions:\n",
    "        label = label.replace('_', ' ')\n",
    "        print(label)\n",
    "    # # Display and save the annotated image\n",
    "    # cv2.imshow(\"Annotated Image\", annotated_img)\n",
    "    # cv2.waitKey(0)\n",
    "    # cv2.destroyAllWindows()\n",
    "    # cv2.imwrite(\"annotated_image.jpg\", annotated_img)\n",
    "\n",
    "for i in range(0, len(path)):\n",
    "    print(labels[i])\n",
    "    annotate_image(path[i])"
   ],
   "metadata": {
    "collapsed": false,
    "ExecuteTime": {
     "end_time": "2023-07-05T16:52:51.559961300Z",
     "start_time": "2023-07-05T16:51:56.594034900Z"
    }
   }
  },
  {
   "cell_type": "code",
   "execution_count": 27,
   "outputs": [
    {
     "ename": "SyntaxError",
     "evalue": "(unicode error) 'unicodeescape' codec can't decode bytes in position 2-3: truncated \\UXXXXXXXX escape (1964740106.py, line 2)",
     "output_type": "error",
     "traceback": [
      "\u001B[1;36m  Cell \u001B[1;32mIn[27], line 2\u001B[1;36m\u001B[0m\n\u001B[1;33m    img_path= \"C:\\Users\\schul\\OneDrive - HTW Dresden\\Documents\\6._Semester\\Applied_AI\\aai-selfdriving-cars\\src\\dataset\\unsere-autorin-faehrt-viel-rad.jpg\"\u001B[0m\n\u001B[1;37m                                                                                                                                                          ^\u001B[0m\n\u001B[1;31mSyntaxError\u001B[0m\u001B[1;31m:\u001B[0m (unicode error) 'unicodeescape' codec can't decode bytes in position 2-3: truncated \\UXXXXXXXX escape\n"
     ]
    }
   ],
   "source": [
    "# test one image\n",
    "img_path= \"C:\\Users\\schul\\OneDrive - HTW Dresden\\Documents\\6._Semester\\Applied_AI\\aai-selfdriving-cars\\src\\dataset\\unsere-autorin-faehrt-viel-rad.jpg\"\n",
    "\n",
    "annotate_image(img_path)"
   ],
   "metadata": {
    "collapsed": false,
    "ExecuteTime": {
     "end_time": "2023-07-05T16:55:11.648157700Z",
     "start_time": "2023-07-05T16:55:11.598521600Z"
    }
   }
  },
  {
   "cell_type": "code",
   "execution_count": null,
   "outputs": [],
   "source": [
    "from sklearn.preprocessing import LabelEncoder\n",
    "from sklearn.model_selection import train_test_split\n",
    "\n",
    "# Split the dataset into training and testing sets\n",
    "train_images, test_images, train_labels0, test_labels0 = train_test_split(images, labels, test_size=0.2,\n",
    "                                                                          random_state=42)\n",
    "\n",
    "# Convert the labels to one-hot encoded vectors\n",
    "num_classes = len(np.unique(labels))\n",
    "\n",
    "print(num_classes)\n",
    "\n",
    "label_encoder = LabelEncoder()\n",
    "train_labels1 = label_encoder.fit_transform(train_labels0)\n",
    "test_labels1 = label_encoder.fit_transform(test_labels0)\n",
    "\n",
    "from tensorflow.keras.utils import to_categorical\n",
    "\n",
    "train_labels = to_categorical(train_labels1, num_classes)\n",
    "test_labels = to_categorical(test_labels1, num_classes)"
   ],
   "metadata": {
    "collapsed": false
   }
  },
  {
   "cell_type": "code",
   "execution_count": null,
   "outputs": [],
   "source": [
    "from keras.models import Sequential\n",
    "from keras.layers import Conv2D, MaxPooling2D, Flatten, Dense\n",
    "\n",
    "model = Sequential()\n",
    "\n",
    "# Add convolutional and pooling layers\n",
    "# Fixme\n",
    "model.add(Conv2D(32, (3, 3), activation='relu', input_shape=(target_size[0], target_size[1], 3)))\n",
    "model.add(MaxPooling2D(pool_size=(2, 2)))\n",
    "\n",
    "# Add more convolutional and pooling layers if desired\n",
    "\n",
    "# Flatten the output from the previous layer\n",
    "model.add(Flatten())\n",
    "\n",
    "# Add fully connected layers\n",
    "model.add(Dense(128, activation='relu'))\n",
    "model.add(Dense(num_classes, activation='softmax'))\n",
    "\n",
    "# Compile the model\n",
    "model.compile(optimizer='adam', loss='categorical_crossentropy', metrics=['accuracy'])"
   ],
   "metadata": {
    "collapsed": false
   }
  },
  {
   "cell_type": "code",
   "execution_count": null,
   "outputs": [],
   "source": [
    "num_epochs = 1\n",
    "batch_size = 10\n",
    "\n",
    "print(train_images.shape)\n",
    "print(train_labels.shape)\n",
    "print(test_images.shape)\n",
    "print(test_labels.shape)"
   ],
   "metadata": {
    "collapsed": false
   }
  },
  {
   "cell_type": "code",
   "execution_count": null,
   "outputs": [],
   "source": [
    "# Train the model\n",
    "model.fit(train_images, train_labels, epochs=num_epochs, batch_size=batch_size,\n",
    "          validation_data=(test_images, test_labels))"
   ],
   "metadata": {
    "collapsed": false
   }
  },
  {
   "cell_type": "code",
   "execution_count": null,
   "outputs": [],
   "source": [
    "# Evaluate the model\n",
    "loss, accuracy = model.evaluate(test_images, test_labels)\n",
    "print(f'Test Loss: {loss:.4f}')\n",
    "print(f'Test Accuracy: {accuracy:.4f}')"
   ],
   "metadata": {
    "collapsed": false
   }
  }
 ],
 "metadata": {
  "kernelspec": {
   "display_name": "Python 3",
   "language": "python",
   "name": "python3"
  },
  "language_info": {
   "codemirror_mode": {
    "name": "ipython",
    "version": 2
   },
   "file_extension": ".py",
   "mimetype": "text/x-python",
   "name": "python",
   "nbconvert_exporter": "python",
   "pygments_lexer": "ipython2",
   "version": "2.7.6"
  }
 },
 "nbformat": 4,
 "nbformat_minor": 0
}
