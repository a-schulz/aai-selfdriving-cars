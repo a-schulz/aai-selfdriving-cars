{
 "cells": [
  {
   "cell_type": "code",
   "execution_count": 24,
   "metadata": {
    "collapsed": true,
    "ExecuteTime": {
     "end_time": "2023-06-28T17:26:46.762894200Z",
     "start_time": "2023-06-28T17:26:46.729109500Z"
    }
   },
   "outputs": [],
   "source": [
    "import os\n",
    "from dotenv import load_dotenv\n",
    "# Classification for the base classes\n",
    "\n",
    "load_dotenv()\n",
    "\n",
    "# Specify the path to the dataset directory\n",
    "dataset_dir = os.getenv('DATASET_DIR')\n",
    "\n",
    "target_size = (128, 128)"
   ]
  },
  {
   "cell_type": "code",
   "execution_count": 38,
   "outputs": [],
   "source": [
    "\n",
    "def explore_directory(directory):\n",
    "    classes = []\n",
    "    with os.scandir(directory) as entries:\n",
    "        for entry in entries:\n",
    "            if entry.is_dir():\n",
    "                classes.append(entry.name)\n",
    "    return classes\n",
    "\n",
    "def recursive_class_output(directory, indentation=\"\"):\n",
    "    result = {}\n",
    "    classes = explore_directory(directory)\n",
    "    for class_name in classes:\n",
    "        subdirectory = os.path.join(directory, class_name)\n",
    "        result[class_name] = recursive_class_output(subdirectory, indentation + \"    \")\n",
    "    return result"
   ],
   "metadata": {
    "collapsed": false,
    "ExecuteTime": {
     "end_time": "2023-06-28T18:54:02.429470500Z",
     "start_time": "2023-06-28T18:54:02.387087700Z"
    }
   }
  },
  {
   "cell_type": "code",
   "execution_count": 39,
   "outputs": [
    {
     "name": "stdout",
     "output_type": "stream",
     "text": [
      "{'animal': {'big': {}, 'small': {}}, 'car': {'agriculture_vehicle': {}, 'bus': {}, 'sportscar': {}}, 'lane': {'curvy': {}, 'straight': {}}, 'pedestrian': {'adult': {}, 'child': {}, 'handicaped': {}, 'senior': {}}, 'traffic_sign': {'danger': {}, 'information': {}, 'restriction': {}, 'speed_limit': {}, 'yield': {}}, 'trafic_light': {'green': {}, 'red': {}, 'yellow': {}}}\n"
     ]
    }
   ],
   "source": [
    "\n",
    "# Initialize lists to store the images and labels\n",
    "labels = recursive_class_output(dataset_dir)"
   ],
   "metadata": {
    "collapsed": false,
    "ExecuteTime": {
     "end_time": "2023-06-28T18:54:02.902338500Z",
     "start_time": "2023-06-28T18:54:02.878845300Z"
    }
   }
  },
  {
   "cell_type": "code",
   "execution_count": null,
   "outputs": [],
   "source": [],
   "metadata": {
    "collapsed": false
   }
  },
  {
   "cell_type": "code",
   "execution_count": null,
   "outputs": [],
   "source": [],
   "metadata": {
    "collapsed": false
   }
  }
 ],
 "metadata": {
  "kernelspec": {
   "display_name": "Python 3",
   "language": "python",
   "name": "python3"
  },
  "language_info": {
   "codemirror_mode": {
    "name": "ipython",
    "version": 2
   },
   "file_extension": ".py",
   "mimetype": "text/x-python",
   "name": "python",
   "nbconvert_exporter": "python",
   "pygments_lexer": "ipython2",
   "version": "2.7.6"
  }
 },
 "nbformat": 4,
 "nbformat_minor": 0
}
