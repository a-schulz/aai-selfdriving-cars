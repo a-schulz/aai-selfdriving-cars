{
 "cells": [
  {
   "cell_type": "code",
   "execution_count": 1,
   "metadata": {
    "collapsed": true
   },
   "outputs": [],
   "source": [
    "import os\n",
    "\n",
    "import cv2\n",
    "import numpy as np\n",
    "from dotenv import load_dotenv\n",
    "\n",
    "# Classification for the base classes\n",
    "\n",
    "load_dotenv()\n",
    "\n",
    "# Specify the path to the dataset directory\n",
    "dataset_dir = os.getenv('DATASET_DIR')\n",
    "\n",
    "target_size = (128, 128)"
   ]
  },
  {
   "cell_type": "code",
   "execution_count": 2,
   "outputs": [],
   "source": [
    "# Get all images\n",
    "def read_images_from_directory(directory):\n",
    "    images = []\n",
    "    labels = []\n",
    "    class_names = []\n",
    "    path = []\n",
    "    for root, dirs, files in os.walk(directory):\n",
    "        for class_name in dirs:\n",
    "            class_directory = os.path.join(root, class_name)\n",
    "            for filename in os.listdir(class_directory):\n",
    "                file_path = os.path.join(class_directory, filename)\n",
    "                if os.path.isfile(file_path):\n",
    "                    image = cv2.imread(file_path, cv2.COLOR_BGR2GRAY)\n",
    "                    if image is not None:\n",
    "                        image = cv2.resize(image, target_size)\n",
    "                        images.append(image)\n",
    "                        labels.append(os.path.basename(root) + \".\" + class_name)\n",
    "                        path.append(file_path)\n",
    "                        if class_name not in class_names:\n",
    "                            class_names.append(class_name)\n",
    "\n",
    "    images = np.array(images)\n",
    "    labels = np.array(labels)\n",
    "    class_names = np.array(class_names)\n",
    "    path = np.array(path)\n",
    "\n",
    "    return images, labels, class_names, path"
   ],
   "metadata": {
    "collapsed": false
   }
  },
  {
   "cell_type": "code",
   "execution_count": 3,
   "outputs": [
    {
     "name": "stdout",
     "output_type": "stream",
     "text": [
      "Number of images: 21\n",
      "Number of labels: 21\n",
      "Class names: ['big' 'small' 'agriculture_vehicle' 'bus' 'sportscar' 'curvy' 'adult'\n",
      " 'child' 'handicaped' 'senior' 'danger' 'information' 'restriction'\n",
      " 'speed_limit' 'yield' 'green' 'red' 'yellow']\n",
      "Labels: ['animal.big' 'animal.small' 'car.agriculture_vehicle' 'car.bus'\n",
      " 'car.sportscar' 'lane.curvy' 'pedestrian.adult' 'pedestrian.child'\n",
      " 'pedestrian.handicaped' 'pedestrian.handicaped' 'pedestrian.senior'\n",
      " 'traffic_sign.danger' 'traffic_sign.information'\n",
      " 'traffic_sign.restriction' 'traffic_sign.restriction'\n",
      " 'traffic_sign.restriction' 'traffic_sign.speed_limit'\n",
      " 'traffic_sign.yield' 'trafic_light.green' 'trafic_light.red'\n",
      " 'trafic_light.yellow']\n"
     ]
    }
   ],
   "source": [
    "images, labels, class_names, path = read_images_from_directory(dataset_dir)\n",
    "images_with_labels = list(zip(images, labels))\n",
    "print(\"Number of images:\", len(images))\n",
    "print(\"Number of labels:\", len(labels))\n",
    "print(\"Class names:\", class_names)\n",
    "print(\"Labels:\", labels)"
   ],
   "metadata": {
    "collapsed": false
   }
  },
  {
   "cell_type": "code",
   "execution_count": 4,
   "outputs": [
    {
     "name": "stdout",
     "output_type": "stream",
     "text": [
      "First image:  [[[ 18  36  44]\n",
      "  [ 11  30  34]\n",
      "  [ 12  31  35]\n",
      "  ...\n",
      "  [  7  19  27]\n",
      "  [  9  21  29]\n",
      "  [ 15  26  34]]\n",
      "\n",
      " [[ 13  30  33]\n",
      "  [ 12  39  45]\n",
      "  [ 10  39  44]\n",
      "  ...\n",
      "  [ 10  20  27]\n",
      "  [  9  21  29]\n",
      "  [ 14  26  32]]\n",
      "\n",
      " [[ 11  32  34]\n",
      "  [ 21  57  60]\n",
      "  [ 20  56  62]\n",
      "  ...\n",
      "  [ 11  22  36]\n",
      "  [ 11  23  32]\n",
      "  [ 11  23  33]]\n",
      "\n",
      " ...\n",
      "\n",
      " [[ 66 149 142]\n",
      "  [ 75 163 158]\n",
      "  [ 64 148 146]\n",
      "  ...\n",
      "  [ 40  99  83]\n",
      "  [ 44 106  93]\n",
      "  [ 33  89  78]]\n",
      "\n",
      " [[ 62 147 140]\n",
      "  [ 59 149 142]\n",
      "  [ 63 156 144]\n",
      "  ...\n",
      "  [ 54 102  96]\n",
      "  [ 17  82  71]\n",
      "  [ 66 132 133]]\n",
      "\n",
      " [[ 68 152 141]\n",
      "  [ 60 146 138]\n",
      "  [ 77 151 154]\n",
      "  ...\n",
      "  [ 41 111 103]\n",
      "  [ 50 118 113]\n",
      "  [ 45 117 110]]]\n",
      "First image - label:  animal.big\n"
     ]
    }
   ],
   "source": [
    "print(\"First image: \", images_with_labels[0][0])\n",
    "print(\"First image - label: \", images_with_labels[0][1])"
   ],
   "metadata": {
    "collapsed": false
   }
  },
  {
   "cell_type": "code",
   "execution_count": 16,
   "outputs": [
    {
     "name": "stdout",
     "output_type": "stream",
     "text": [
      "animal.big\n",
      "1/1 [==============================] - 2s 2s/step\n",
      "gazelle\n",
      "impala\n",
      "hartebeest\n",
      "animal.small\n",
      "1/1 [==============================] - 0s 451ms/step\n",
      "weasel\n",
      "badger\n",
      "skunk\n",
      "car.agriculture_vehicle\n",
      "1/1 [==============================] - 1s 592ms/step\n",
      "tractor\n",
      "harvester\n",
      "plow\n",
      "car.bus\n",
      "1/1 [==============================] - 1s 650ms/step\n",
      "streetcar\n",
      "trolleybus\n",
      "passenger car\n",
      "car.sportscar\n",
      "1/1 [==============================] - 1s 638ms/step\n",
      "sports car\n",
      "racer\n",
      "convertible\n",
      "lane.curvy\n",
      "1/1 [==============================] - 1s 559ms/step\n",
      "dam\n",
      "valley\n",
      "promontory\n",
      "pedestrian.adult\n",
      "1/1 [==============================] - 0s 435ms/step\n",
      "web site\n",
      "jean\n",
      "pajama\n",
      "pedestrian.child\n",
      "1/1 [==============================] - 0s 481ms/step\n",
      "umbrella\n",
      "jean\n",
      "balance beam\n",
      "pedestrian.handicaped\n",
      "1/1 [==============================] - 1s 665ms/step\n",
      "jinrikisha\n",
      "rocking chair\n",
      "shopping cart\n",
      "pedestrian.handicaped\n",
      "1/1 [==============================] - 0s 470ms/step\n",
      "backpack\n",
      "swimming trunks\n",
      "academic gown\n",
      "pedestrian.senior\n",
      "1/1 [==============================] - 0s 416ms/step\n",
      "fur coat\n",
      "crutch\n",
      "jean\n",
      "traffic_sign.danger\n",
      "1/1 [==============================] - 0s 428ms/step\n",
      "street sign\n",
      "hatchet\n",
      "analog clock\n",
      "traffic_sign.information\n",
      "1/1 [==============================] - 0s 409ms/step\n",
      "street sign\n",
      "digital clock\n",
      "traffic light\n",
      "traffic_sign.restriction\n",
      "1/1 [==============================] - 0s 446ms/step\n",
      "stethoscope\n",
      "bolo tie\n",
      "street sign\n",
      "traffic_sign.restriction\n",
      "1/1 [==============================] - 1s 599ms/step\n",
      "street sign\n",
      "laptop\n",
      "puck\n",
      "traffic_sign.restriction\n",
      "1/1 [==============================] - 1s 606ms/step\n",
      "street sign\n",
      "envelope\n",
      "analog clock\n",
      "traffic_sign.speed_limit\n",
      "1/1 [==============================] - 0s 465ms/step\n",
      "envelope\n",
      "Band Aid\n",
      "web site\n",
      "traffic_sign.yield\n",
      "1/1 [==============================] - 0s 424ms/step\n",
      "Band Aid\n",
      "mousetrap\n",
      "lighter\n",
      "trafic_light.green\n",
      "1/1 [==============================] - 1s 579ms/step\n",
      "traffic light\n",
      "street sign\n",
      "switch\n",
      "trafic_light.red\n",
      "1/1 [==============================] - 1s 624ms/step\n",
      "traffic light\n",
      "switch\n",
      "cellular telephone\n",
      "trafic_light.yellow\n",
      "1/1 [==============================] - 0s 459ms/step\n",
      "traffic light\n",
      "hook\n",
      "pole\n"
     ]
    }
   ],
   "source": [
    "import cv2\n",
    "import numpy as np\n",
    "from tensorflow.keras.applications.vgg16 import VGG16, preprocess_input, decode_predictions\n",
    "\n",
    "def annotate_image(image_path):\n",
    "    # Load the pre-trained VGG16 model\n",
    "    model = VGG16()\n",
    "\n",
    "    # Load and preprocess the image\n",
    "    img = cv2.imread(image_path)\n",
    "    img = cv2.cvtColor(img, cv2.COLOR_BGR2RGB)\n",
    "    img_resized = cv2.resize(img, (224, 224))\n",
    "    img_preprocessed = preprocess_input(np.expand_dims(img_resized, axis=0))\n",
    "\n",
    "    # Make predictions on the preprocessed image\n",
    "    predictions = model.predict(img_preprocessed)\n",
    "    #     print(predictions)\n",
    "    #     input('p a k ...')\n",
    "    decoded_predictions = decode_predictions(predictions, top=3)[0]\n",
    "\n",
    "    # Annotate the image with rectangles around the predicted objects\n",
    "    annotated_img = img.copy()\n",
    "    for _, label, prob in decoded_predictions:\n",
    "        label = label.replace('_', ' ')\n",
    "        print(label)\n",
    "    # # Display and save the annotated image\n",
    "    # cv2.imshow(\"Annotated Image\", annotated_img)\n",
    "    # cv2.waitKey(0)\n",
    "    # cv2.destroyAllWindows()\n",
    "    # cv2.imwrite(\"annotated_image.jpg\", annotated_img)\n",
    "\n",
    "for i in range(0, len(path)):\n",
    "    print(labels[i])\n",
    "    annotate_image(path[i])"
   ],
   "metadata": {
    "collapsed": false,
    "ExecuteTime": {
     "end_time": "2023-07-05T16:38:43.782695800Z",
     "start_time": "2023-07-05T16:37:07.390071800Z"
    }
   }
  },
  {
   "cell_type": "code",
   "execution_count": 12,
   "outputs": [
    {
     "name": "stdout",
     "output_type": "stream",
     "text": [
      "Model: \"vgg16\"\n",
      "_________________________________________________________________\n",
      " Layer (type)                Output Shape              Param #   \n",
      "=================================================================\n",
      " input_2 (InputLayer)        [(None, 224, 224, 3)]     0         \n",
      "                                                                 \n",
      " block1_conv1 (Conv2D)       (None, 224, 224, 64)      1792      \n",
      "                                                                 \n",
      " block1_conv2 (Conv2D)       (None, 224, 224, 64)      36928     \n",
      "                                                                 \n",
      " block1_pool (MaxPooling2D)  (None, 112, 112, 64)      0         \n",
      "                                                                 \n",
      " block2_conv1 (Conv2D)       (None, 112, 112, 128)     73856     \n",
      "                                                                 \n",
      " block2_conv2 (Conv2D)       (None, 112, 112, 128)     147584    \n",
      "                                                                 \n",
      " block2_pool (MaxPooling2D)  (None, 56, 56, 128)       0         \n",
      "                                                                 \n",
      " block3_conv1 (Conv2D)       (None, 56, 56, 256)       295168    \n",
      "                                                                 \n",
      " block3_conv2 (Conv2D)       (None, 56, 56, 256)       590080    \n",
      "                                                                 \n",
      " block3_conv3 (Conv2D)       (None, 56, 56, 256)       590080    \n",
      "                                                                 \n",
      " block3_pool (MaxPooling2D)  (None, 28, 28, 256)       0         \n",
      "                                                                 \n",
      " block4_conv1 (Conv2D)       (None, 28, 28, 512)       1180160   \n",
      "                                                                 \n",
      " block4_conv2 (Conv2D)       (None, 28, 28, 512)       2359808   \n",
      "                                                                 \n",
      " block4_conv3 (Conv2D)       (None, 28, 28, 512)       2359808   \n",
      "                                                                 \n",
      " block4_pool (MaxPooling2D)  (None, 14, 14, 512)       0         \n",
      "                                                                 \n",
      " block5_conv1 (Conv2D)       (None, 14, 14, 512)       2359808   \n",
      "                                                                 \n",
      " block5_conv2 (Conv2D)       (None, 14, 14, 512)       2359808   \n",
      "                                                                 \n",
      " block5_conv3 (Conv2D)       (None, 14, 14, 512)       2359808   \n",
      "                                                                 \n",
      " block5_pool (MaxPooling2D)  (None, 7, 7, 512)         0         \n",
      "                                                                 \n",
      " flatten (Flatten)           (None, 25088)             0         \n",
      "                                                                 \n",
      " fc1 (Dense)                 (None, 4096)              102764544 \n",
      "                                                                 \n",
      " fc2 (Dense)                 (None, 4096)              16781312  \n",
      "                                                                 \n",
      " predictions (Dense)         (None, 1000)              4097000   \n",
      "                                                                 \n",
      "=================================================================\n",
      "Total params: 138,357,544\n",
      "Trainable params: 138,357,544\n",
      "Non-trainable params: 0\n",
      "_________________________________________________________________\n",
      "None\n",
      "Model: \"vgg16\"\n",
      "_________________________________________________________________\n",
      " Layer (type)                Output Shape              Param #   \n",
      "=================================================================\n",
      " input_3 (InputLayer)        [(None, 224, 224, 3)]     0         \n",
      "                                                                 \n",
      " block1_conv1 (Conv2D)       (None, 224, 224, 64)      1792      \n",
      "                                                                 \n",
      " block1_conv2 (Conv2D)       (None, 224, 224, 64)      36928     \n",
      "                                                                 \n",
      " block1_pool (MaxPooling2D)  (None, 112, 112, 64)      0         \n",
      "                                                                 \n",
      " block2_conv1 (Conv2D)       (None, 112, 112, 128)     73856     \n",
      "                                                                 \n",
      " block2_conv2 (Conv2D)       (None, 112, 112, 128)     147584    \n",
      "                                                                 \n",
      " block2_pool (MaxPooling2D)  (None, 56, 56, 128)       0         \n",
      "                                                                 \n",
      " block3_conv1 (Conv2D)       (None, 56, 56, 256)       295168    \n",
      "                                                                 \n",
      " block3_conv2 (Conv2D)       (None, 56, 56, 256)       590080    \n",
      "                                                                 \n",
      " block3_conv3 (Conv2D)       (None, 56, 56, 256)       590080    \n",
      "                                                                 \n",
      " block3_pool (MaxPooling2D)  (None, 28, 28, 256)       0         \n",
      "                                                                 \n",
      " block4_conv1 (Conv2D)       (None, 28, 28, 512)       1180160   \n",
      "                                                                 \n",
      " block4_conv2 (Conv2D)       (None, 28, 28, 512)       2359808   \n",
      "                                                                 \n",
      " block4_conv3 (Conv2D)       (None, 28, 28, 512)       2359808   \n",
      "                                                                 \n",
      " block4_pool (MaxPooling2D)  (None, 14, 14, 512)       0         \n",
      "                                                                 \n",
      " block5_conv1 (Conv2D)       (None, 14, 14, 512)       2359808   \n",
      "                                                                 \n",
      " block5_conv2 (Conv2D)       (None, 14, 14, 512)       2359808   \n",
      "                                                                 \n",
      " block5_conv3 (Conv2D)       (None, 14, 14, 512)       2359808   \n",
      "                                                                 \n",
      " block5_pool (MaxPooling2D)  (None, 7, 7, 512)         0         \n",
      "                                                                 \n",
      " flatten (Flatten)           (None, 25088)             0         \n",
      "                                                                 \n",
      " fc1 (Dense)                 (None, 4096)              102764544 \n",
      "                                                                 \n",
      " fc2 (Dense)                 (None, 4096)              16781312  \n",
      "                                                                 \n",
      " predictions (Dense)         (None, 1000)              4097000   \n",
      "                                                                 \n",
      "=================================================================\n",
      "Total params: 138,357,544\n",
      "Trainable params: 138,357,544\n",
      "Non-trainable params: 0\n",
      "_________________________________________________________________\n",
      "None\n"
     ]
    }
   ],
   "source": [
    "from keras.applications.vgg16 import VGG16\n",
    "model = VGG16()\n",
    "print(model.summary())"
   ],
   "metadata": {
    "collapsed": false,
    "ExecuteTime": {
     "end_time": "2023-07-05T16:32:02.703260800Z",
     "start_time": "2023-07-05T16:31:49.995246800Z"
    }
   }
  },
  {
   "cell_type": "code",
   "execution_count": 7,
   "outputs": [
    {
     "name": "stdout",
     "output_type": "stream",
     "text": [
      "18\n"
     ]
    }
   ],
   "source": [
    "from sklearn.preprocessing import LabelEncoder\n",
    "from sklearn.model_selection import train_test_split\n",
    "\n",
    "# Split the dataset into training and testing sets\n",
    "train_images, test_images, train_labels0, test_labels0 = train_test_split(images, labels, test_size=0.2,\n",
    "                                                                          random_state=42)\n",
    "\n",
    "# Convert the labels to one-hot encoded vectors\n",
    "num_classes = len(np.unique(labels))\n",
    "\n",
    "print(num_classes)\n",
    "\n",
    "label_encoder = LabelEncoder()\n",
    "train_labels1 = label_encoder.fit_transform(train_labels0)\n",
    "test_labels1 = label_encoder.fit_transform(test_labels0)\n",
    "\n",
    "from tensorflow.keras.utils import to_categorical\n",
    "\n",
    "train_labels = to_categorical(train_labels1, num_classes)\n",
    "test_labels = to_categorical(test_labels1, num_classes)"
   ],
   "metadata": {
    "collapsed": false
   }
  },
  {
   "cell_type": "code",
   "execution_count": 8,
   "outputs": [],
   "source": [
    "from keras.models import Sequential\n",
    "from keras.layers import Conv2D, MaxPooling2D, Flatten, Dense\n",
    "\n",
    "model = Sequential()\n",
    "\n",
    "# Add convolutional and pooling layers\n",
    "# Fixme\n",
    "model.add(Conv2D(32, (3, 3), activation='relu', input_shape=(target_size[0], target_size[1], 3)))\n",
    "model.add(MaxPooling2D(pool_size=(2, 2)))\n",
    "\n",
    "# Add more convolutional and pooling layers if desired\n",
    "\n",
    "# Flatten the output from the previous layer\n",
    "model.add(Flatten())\n",
    "\n",
    "# Add fully connected layers\n",
    "model.add(Dense(128, activation='relu'))\n",
    "model.add(Dense(num_classes, activation='softmax'))\n",
    "\n",
    "# Compile the model\n",
    "model.compile(optimizer='adam', loss='categorical_crossentropy', metrics=['accuracy'])"
   ],
   "metadata": {
    "collapsed": false
   }
  },
  {
   "cell_type": "code",
   "execution_count": 9,
   "outputs": [
    {
     "name": "stdout",
     "output_type": "stream",
     "text": [
      "(16, 128, 128, 3)\n",
      "(16, 18)\n",
      "(5, 128, 128, 3)\n",
      "(5, 18)\n"
     ]
    }
   ],
   "source": [
    "num_epochs = 1\n",
    "batch_size = 10\n",
    "\n",
    "print(train_images.shape)\n",
    "print(train_labels.shape)\n",
    "print(test_images.shape)\n",
    "print(test_labels.shape)"
   ],
   "metadata": {
    "collapsed": false
   }
  },
  {
   "cell_type": "code",
   "execution_count": 10,
   "outputs": [
    {
     "name": "stdout",
     "output_type": "stream",
     "text": [
      "2/2 [==============================] - 2s 532ms/step - loss: 1932.4266 - accuracy: 0.0000e+00 - val_loss: 5062.2324 - val_accuracy: 0.0000e+00\n"
     ]
    },
    {
     "data": {
      "text/plain": "<keras.callbacks.History at 0x1adbe766c20>"
     },
     "execution_count": 10,
     "metadata": {},
     "output_type": "execute_result"
    }
   ],
   "source": [
    "# Train the model\n",
    "model.fit(train_images, train_labels, epochs=num_epochs, batch_size=batch_size,\n",
    "          validation_data=(test_images, test_labels))"
   ],
   "metadata": {
    "collapsed": false
   }
  },
  {
   "cell_type": "code",
   "execution_count": 11,
   "outputs": [
    {
     "name": "stdout",
     "output_type": "stream",
     "text": [
      "1/1 [==============================] - 0s 33ms/step - loss: 5062.2324 - accuracy: 0.0000e+00\n",
      "Test Loss: 5062.2324\n",
      "Test Accuracy: 0.0000\n"
     ]
    }
   ],
   "source": [
    "# Evaluate the model\n",
    "loss, accuracy = model.evaluate(test_images, test_labels)\n",
    "print(f'Test Loss: {loss:.4f}')\n",
    "print(f'Test Accuracy: {accuracy:.4f}')"
   ],
   "metadata": {
    "collapsed": false
   }
  }
 ],
 "metadata": {
  "kernelspec": {
   "display_name": "Python 3",
   "language": "python",
   "name": "python3"
  },
  "language_info": {
   "codemirror_mode": {
    "name": "ipython",
    "version": 2
   },
   "file_extension": ".py",
   "mimetype": "text/x-python",
   "name": "python",
   "nbconvert_exporter": "python",
   "pygments_lexer": "ipython2",
   "version": "2.7.6"
  }
 },
 "nbformat": 4,
 "nbformat_minor": 0
}
