{
 "cells": [
  {
   "cell_type": "code",
   "execution_count": 87,
   "metadata": {
    "collapsed": true,
    "ExecuteTime": {
     "end_time": "2023-06-29T09:32:36.037658200Z",
     "start_time": "2023-06-29T09:32:35.966513100Z"
    }
   },
   "outputs": [],
   "source": [
    "import os\n",
    "\n",
    "import cv2\n",
    "import numpy as np\n",
    "from dotenv import load_dotenv\n",
    "\n",
    "# Classification for the base classes\n",
    "\n",
    "load_dotenv()\n",
    "\n",
    "# Specify the path to the dataset directory\n",
    "dataset_dir = os.getenv('DATASET_DIR')\n",
    "\n",
    "target_size = (128, 128)"
   ]
  },
  {
   "cell_type": "code",
   "execution_count": 88,
   "outputs": [],
   "source": [
    "# Get all images\n",
    "def read_images_from_directory(directory):\n",
    "    images = []\n",
    "    labels = []\n",
    "\n",
    "    class_names = []\n",
    "    for root, dirs, files in os.walk(directory):\n",
    "        for class_name in dirs:\n",
    "            class_directory = os.path.join(root, class_name)\n",
    "            for filename in os.listdir(class_directory):\n",
    "                file_path = os.path.join(class_directory, filename)\n",
    "                if os.path.isfile(file_path):\n",
    "                    image = cv2.imread(file_path, cv2.COLOR_BGR2GRAY)\n",
    "                    if image is not None:\n",
    "                        image = cv2.resize(image, target_size)\n",
    "                        images.append(image)\n",
    "                        labels.append(os.path.basename(root) + \".\" + class_name)\n",
    "                        if class_name not in class_names:\n",
    "                            class_names.append(class_name)\n",
    "\n",
    "    images = np.array(images)\n",
    "    labels = np.array(labels)\n",
    "    class_names = np.array(class_names)\n",
    "\n",
    "    return images, labels, class_names"
   ],
   "metadata": {
    "collapsed": false,
    "ExecuteTime": {
     "end_time": "2023-06-29T09:32:36.098927100Z",
     "start_time": "2023-06-29T09:32:36.051150600Z"
    }
   }
  },
  {
   "cell_type": "code",
   "execution_count": 89,
   "outputs": [
    {
     "name": "stdout",
     "output_type": "stream",
     "text": [
      "Number of images: 21\n",
      "Number of labels: 21\n",
      "Class names: ['big' 'small' 'agriculture_vehicle' 'bus' 'sportscar' 'curvy' 'adult'\n",
      " 'child' 'handicaped' 'senior' 'danger' 'information' 'restriction'\n",
      " 'speed_limit' 'yield' 'green' 'red' 'yellow']\n",
      "Labels: ['animal.big' 'animal.small' 'car.agriculture_vehicle' 'car.bus'\n",
      " 'car.sportscar' 'lane.curvy' 'pedestrian.adult' 'pedestrian.child'\n",
      " 'pedestrian.handicaped' 'pedestrian.handicaped' 'pedestrian.senior'\n",
      " 'traffic_sign.danger' 'traffic_sign.information'\n",
      " 'traffic_sign.restriction' 'traffic_sign.restriction'\n",
      " 'traffic_sign.restriction' 'traffic_sign.speed_limit'\n",
      " 'traffic_sign.yield' 'trafic_light.green' 'trafic_light.red'\n",
      " 'trafic_light.yellow']\n"
     ]
    }
   ],
   "source": [
    "images, labels, class_names = read_images_from_directory(dataset_dir)\n",
    "images_with_labels = list(zip(images, labels))\n",
    "print(\"Number of images:\", len(images))\n",
    "print(\"Number of labels:\", len(labels))\n",
    "print(\"Class names:\", class_names)\n",
    "print(\"Labels:\", labels)"
   ],
   "metadata": {
    "collapsed": false,
    "ExecuteTime": {
     "end_time": "2023-06-29T09:32:37.522438900Z",
     "start_time": "2023-06-29T09:32:36.109127200Z"
    }
   }
  },
  {
   "cell_type": "code",
   "execution_count": 90,
   "outputs": [
    {
     "name": "stdout",
     "output_type": "stream",
     "text": [
      "First image:  [[[ 18  36  44]\n",
      "  [ 11  30  34]\n",
      "  [ 12  31  35]\n",
      "  ...\n",
      "  [  7  19  27]\n",
      "  [  9  21  29]\n",
      "  [ 15  26  34]]\n",
      "\n",
      " [[ 13  30  33]\n",
      "  [ 12  39  45]\n",
      "  [ 10  39  44]\n",
      "  ...\n",
      "  [ 10  20  27]\n",
      "  [  9  21  29]\n",
      "  [ 14  26  32]]\n",
      "\n",
      " [[ 11  32  34]\n",
      "  [ 21  57  60]\n",
      "  [ 20  56  62]\n",
      "  ...\n",
      "  [ 11  22  36]\n",
      "  [ 11  23  32]\n",
      "  [ 11  23  33]]\n",
      "\n",
      " ...\n",
      "\n",
      " [[ 66 149 142]\n",
      "  [ 75 163 158]\n",
      "  [ 64 148 146]\n",
      "  ...\n",
      "  [ 40  99  83]\n",
      "  [ 44 106  93]\n",
      "  [ 33  89  78]]\n",
      "\n",
      " [[ 62 147 140]\n",
      "  [ 59 149 142]\n",
      "  [ 63 156 144]\n",
      "  ...\n",
      "  [ 54 102  96]\n",
      "  [ 17  82  71]\n",
      "  [ 66 132 133]]\n",
      "\n",
      " [[ 68 152 141]\n",
      "  [ 60 146 138]\n",
      "  [ 77 151 154]\n",
      "  ...\n",
      "  [ 41 111 103]\n",
      "  [ 50 118 113]\n",
      "  [ 45 117 110]]]\n",
      "First image - label:  animal.big\n"
     ]
    }
   ],
   "source": [
    "print(\"First image: \", images_with_labels[0][0])\n",
    "print(\"First image - label: \", images_with_labels[0][1])"
   ],
   "metadata": {
    "collapsed": false,
    "ExecuteTime": {
     "end_time": "2023-06-29T09:32:37.601596200Z",
     "start_time": "2023-06-29T09:32:37.533423Z"
    }
   }
  },
  {
   "cell_type": "code",
   "execution_count": 91,
   "outputs": [
    {
     "name": "stdout",
     "output_type": "stream",
     "text": [
      "18\n"
     ]
    }
   ],
   "source": [
    "from sklearn.preprocessing import LabelEncoder\n",
    "from sklearn.model_selection import train_test_split\n",
    "\n",
    "# Split the dataset into training and testing sets\n",
    "train_images, test_images, train_labels0, test_labels0 = train_test_split(images, labels, test_size=0.2,\n",
    "                                                                          random_state=42)\n",
    "\n",
    "# Convert the labels to one-hot encoded vectors\n",
    "num_classes = len(np.unique(labels))\n",
    "\n",
    "print(num_classes)\n",
    "\n",
    "label_encoder = LabelEncoder()\n",
    "train_labels1 = label_encoder.fit_transform(train_labels0)\n",
    "test_labels1 = label_encoder.fit_transform(test_labels0)\n",
    "\n",
    "from tensorflow.keras.utils import to_categorical\n",
    "\n",
    "train_labels = to_categorical(train_labels1, num_classes)\n",
    "test_labels = to_categorical(test_labels1, num_classes)"
   ],
   "metadata": {
    "collapsed": false,
    "ExecuteTime": {
     "end_time": "2023-06-29T09:32:51.334792700Z",
     "start_time": "2023-06-29T09:32:37.576641600Z"
    }
   }
  },
  {
   "cell_type": "code",
   "execution_count": 93,
   "outputs": [
    {
     "ename": "ValueError",
     "evalue": "Input 0 of layer \"conv2d_1\" is incompatible with the layer: expected min_ndim=4, found ndim=3. Full shape received: (None, 128, 128)",
     "output_type": "error",
     "traceback": [
      "\u001B[1;31m---------------------------------------------------------------------------\u001B[0m",
      "\u001B[1;31mValueError\u001B[0m                                Traceback (most recent call last)",
      "Cell \u001B[1;32mIn[93], line 7\u001B[0m\n\u001B[0;32m      4\u001B[0m model \u001B[38;5;241m=\u001B[39m Sequential()\n\u001B[0;32m      6\u001B[0m \u001B[38;5;66;03m# Add convolutional and pooling layers\u001B[39;00m\n\u001B[1;32m----> 7\u001B[0m \u001B[43mmodel\u001B[49m\u001B[38;5;241;43m.\u001B[39;49m\u001B[43madd\u001B[49m\u001B[43m(\u001B[49m\u001B[43mConv2D\u001B[49m\u001B[43m(\u001B[49m\u001B[38;5;241;43m32\u001B[39;49m\u001B[43m,\u001B[49m\u001B[43m \u001B[49m\u001B[43m(\u001B[49m\u001B[38;5;241;43m3\u001B[39;49m\u001B[43m,\u001B[49m\u001B[43m \u001B[49m\u001B[38;5;241;43m3\u001B[39;49m\u001B[43m)\u001B[49m\u001B[43m,\u001B[49m\u001B[43m \u001B[49m\u001B[43mactivation\u001B[49m\u001B[38;5;241;43m=\u001B[39;49m\u001B[38;5;124;43m'\u001B[39;49m\u001B[38;5;124;43mrelu\u001B[39;49m\u001B[38;5;124;43m'\u001B[39;49m\u001B[43m,\u001B[49m\u001B[43m \u001B[49m\u001B[43minput_shape\u001B[49m\u001B[38;5;241;43m=\u001B[39;49m\u001B[43m(\u001B[49m\u001B[43mtarget_size\u001B[49m\u001B[43m[\u001B[49m\u001B[38;5;241;43m0\u001B[39;49m\u001B[43m]\u001B[49m\u001B[43m,\u001B[49m\u001B[43m \u001B[49m\u001B[43mtarget_size\u001B[49m\u001B[43m[\u001B[49m\u001B[38;5;241;43m1\u001B[39;49m\u001B[43m]\u001B[49m\u001B[43m)\u001B[49m\u001B[43m)\u001B[49m\u001B[43m)\u001B[49m\n\u001B[0;32m      8\u001B[0m model\u001B[38;5;241m.\u001B[39madd(MaxPooling2D(pool_size\u001B[38;5;241m=\u001B[39m(\u001B[38;5;241m2\u001B[39m, \u001B[38;5;241m2\u001B[39m)))\n\u001B[0;32m     10\u001B[0m \u001B[38;5;66;03m# Add more convolutional and pooling layers if desired\u001B[39;00m\n\u001B[0;32m     11\u001B[0m \n\u001B[0;32m     12\u001B[0m \u001B[38;5;66;03m# Flatten the output from the previous layer\u001B[39;00m\n",
      "File \u001B[1;32m~\\AppData\\Local\\pypoetry\\Cache\\virtualenvs\\aai-selfdriving-cars-HJzYqVPS-py3.10\\lib\\site-packages\\tensorflow\\python\\trackable\\base.py:205\u001B[0m, in \u001B[0;36mno_automatic_dependency_tracking.<locals>._method_wrapper\u001B[1;34m(self, *args, **kwargs)\u001B[0m\n\u001B[0;32m    203\u001B[0m \u001B[38;5;28mself\u001B[39m\u001B[38;5;241m.\u001B[39m_self_setattr_tracking \u001B[38;5;241m=\u001B[39m \u001B[38;5;28;01mFalse\u001B[39;00m  \u001B[38;5;66;03m# pylint: disable=protected-access\u001B[39;00m\n\u001B[0;32m    204\u001B[0m \u001B[38;5;28;01mtry\u001B[39;00m:\n\u001B[1;32m--> 205\u001B[0m   result \u001B[38;5;241m=\u001B[39m method(\u001B[38;5;28mself\u001B[39m, \u001B[38;5;241m*\u001B[39margs, \u001B[38;5;241m*\u001B[39m\u001B[38;5;241m*\u001B[39mkwargs)\n\u001B[0;32m    206\u001B[0m \u001B[38;5;28;01mfinally\u001B[39;00m:\n\u001B[0;32m    207\u001B[0m   \u001B[38;5;28mself\u001B[39m\u001B[38;5;241m.\u001B[39m_self_setattr_tracking \u001B[38;5;241m=\u001B[39m previous_value  \u001B[38;5;66;03m# pylint: disable=protected-access\u001B[39;00m\n",
      "File \u001B[1;32m~\\AppData\\Local\\pypoetry\\Cache\\virtualenvs\\aai-selfdriving-cars-HJzYqVPS-py3.10\\lib\\site-packages\\keras\\src\\utils\\traceback_utils.py:70\u001B[0m, in \u001B[0;36mfilter_traceback.<locals>.error_handler\u001B[1;34m(*args, **kwargs)\u001B[0m\n\u001B[0;32m     67\u001B[0m     filtered_tb \u001B[38;5;241m=\u001B[39m _process_traceback_frames(e\u001B[38;5;241m.\u001B[39m__traceback__)\n\u001B[0;32m     68\u001B[0m     \u001B[38;5;66;03m# To get the full stack trace, call:\u001B[39;00m\n\u001B[0;32m     69\u001B[0m     \u001B[38;5;66;03m# `tf.debugging.disable_traceback_filtering()`\u001B[39;00m\n\u001B[1;32m---> 70\u001B[0m     \u001B[38;5;28;01mraise\u001B[39;00m e\u001B[38;5;241m.\u001B[39mwith_traceback(filtered_tb) \u001B[38;5;28;01mfrom\u001B[39;00m \u001B[38;5;28;01mNone\u001B[39;00m\n\u001B[0;32m     71\u001B[0m \u001B[38;5;28;01mfinally\u001B[39;00m:\n\u001B[0;32m     72\u001B[0m     \u001B[38;5;28;01mdel\u001B[39;00m filtered_tb\n",
      "File \u001B[1;32m~\\AppData\\Local\\pypoetry\\Cache\\virtualenvs\\aai-selfdriving-cars-HJzYqVPS-py3.10\\lib\\site-packages\\keras\\src\\engine\\input_spec.py:253\u001B[0m, in \u001B[0;36massert_input_compatibility\u001B[1;34m(input_spec, inputs, layer_name)\u001B[0m\n\u001B[0;32m    251\u001B[0m     ndim \u001B[38;5;241m=\u001B[39m x\u001B[38;5;241m.\u001B[39mshape\u001B[38;5;241m.\u001B[39mrank\n\u001B[0;32m    252\u001B[0m     \u001B[38;5;28;01mif\u001B[39;00m ndim \u001B[38;5;129;01mis\u001B[39;00m \u001B[38;5;129;01mnot\u001B[39;00m \u001B[38;5;28;01mNone\u001B[39;00m \u001B[38;5;129;01mand\u001B[39;00m ndim \u001B[38;5;241m<\u001B[39m spec\u001B[38;5;241m.\u001B[39mmin_ndim:\n\u001B[1;32m--> 253\u001B[0m         \u001B[38;5;28;01mraise\u001B[39;00m \u001B[38;5;167;01mValueError\u001B[39;00m(\n\u001B[0;32m    254\u001B[0m             \u001B[38;5;124mf\u001B[39m\u001B[38;5;124m'\u001B[39m\u001B[38;5;124mInput \u001B[39m\u001B[38;5;132;01m{\u001B[39;00minput_index\u001B[38;5;132;01m}\u001B[39;00m\u001B[38;5;124m of layer \u001B[39m\u001B[38;5;124m\"\u001B[39m\u001B[38;5;132;01m{\u001B[39;00mlayer_name\u001B[38;5;132;01m}\u001B[39;00m\u001B[38;5;124m\"\u001B[39m\u001B[38;5;124m \u001B[39m\u001B[38;5;124m'\u001B[39m\n\u001B[0;32m    255\u001B[0m             \u001B[38;5;124m\"\u001B[39m\u001B[38;5;124mis incompatible with the layer: \u001B[39m\u001B[38;5;124m\"\u001B[39m\n\u001B[0;32m    256\u001B[0m             \u001B[38;5;124mf\u001B[39m\u001B[38;5;124m\"\u001B[39m\u001B[38;5;124mexpected min_ndim=\u001B[39m\u001B[38;5;132;01m{\u001B[39;00mspec\u001B[38;5;241m.\u001B[39mmin_ndim\u001B[38;5;132;01m}\u001B[39;00m\u001B[38;5;124m, \u001B[39m\u001B[38;5;124m\"\u001B[39m\n\u001B[0;32m    257\u001B[0m             \u001B[38;5;124mf\u001B[39m\u001B[38;5;124m\"\u001B[39m\u001B[38;5;124mfound ndim=\u001B[39m\u001B[38;5;132;01m{\u001B[39;00mndim\u001B[38;5;132;01m}\u001B[39;00m\u001B[38;5;124m. \u001B[39m\u001B[38;5;124m\"\u001B[39m\n\u001B[0;32m    258\u001B[0m             \u001B[38;5;124mf\u001B[39m\u001B[38;5;124m\"\u001B[39m\u001B[38;5;124mFull shape received: \u001B[39m\u001B[38;5;132;01m{\u001B[39;00m\u001B[38;5;28mtuple\u001B[39m(shape)\u001B[38;5;132;01m}\u001B[39;00m\u001B[38;5;124m\"\u001B[39m\n\u001B[0;32m    259\u001B[0m         )\n\u001B[0;32m    260\u001B[0m \u001B[38;5;66;03m# Check dtype.\u001B[39;00m\n\u001B[0;32m    261\u001B[0m \u001B[38;5;28;01mif\u001B[39;00m spec\u001B[38;5;241m.\u001B[39mdtype \u001B[38;5;129;01mis\u001B[39;00m \u001B[38;5;129;01mnot\u001B[39;00m \u001B[38;5;28;01mNone\u001B[39;00m:\n",
      "\u001B[1;31mValueError\u001B[0m: Input 0 of layer \"conv2d_1\" is incompatible with the layer: expected min_ndim=4, found ndim=3. Full shape received: (None, 128, 128)"
     ]
    }
   ],
   "source": [
    "from keras.models import Sequential\n",
    "from keras.layers import Conv2D, MaxPooling2D, Flatten, Dense\n",
    "\n",
    "model = Sequential()\n",
    "\n",
    "# Add convolutional and pooling layers\n",
    "# Fixme\n",
    "model.add(Conv2D(32, (3, 3), activation='relu', input_shape=(target_size[0], target_size[1], 3)))\n",
    "model.add(MaxPooling2D(pool_size=(2, 2)))\n",
    "\n",
    "# Add more convolutional and pooling layers if desired\n",
    "\n",
    "# Flatten the output from the previous layer\n",
    "model.add(Flatten())\n",
    "\n",
    "# Add fully connected layers\n",
    "model.add(Dense(128, activation='relu'))\n",
    "model.add(Dense(num_classes, activation='softmax'))\n",
    "\n",
    "# Compile the model\n",
    "model.compile(optimizer='adam', loss='categorical_crossentropy', metrics=['accuracy'])"
   ],
   "metadata": {
    "collapsed": false,
    "ExecuteTime": {
     "end_time": "2023-06-29T09:35:28.662872500Z",
     "start_time": "2023-06-29T09:35:27.929887Z"
    }
   }
  },
  {
   "cell_type": "code",
   "execution_count": null,
   "outputs": [],
   "source": [
    "num_epochs = 1\n",
    "batch_size = 10\n",
    "\n",
    "print(train_images.shape)\n",
    "print(train_labels.shape)\n",
    "print(test_images.shape)\n",
    "print(test_labels.shape)"
   ],
   "metadata": {
    "collapsed": false
   }
  },
  {
   "cell_type": "code",
   "execution_count": null,
   "outputs": [],
   "source": [
    "# Train the model\n",
    "model.fit(train_images, train_labels, epochs=num_epochs, batch_size=batch_size,\n",
    "          validation_data=(test_images, test_labels))"
   ],
   "metadata": {
    "collapsed": false
   }
  },
  {
   "cell_type": "code",
   "execution_count": null,
   "outputs": [],
   "source": [
    "# Evaluate the model\n",
    "loss, accuracy = model.evaluate(test_images, test_labels)\n",
    "print(f'Test Loss: {loss:.4f}')\n",
    "print(f'Test Accuracy: {accuracy:.4f}')"
   ],
   "metadata": {
    "collapsed": false
   }
  }
 ],
 "metadata": {
  "kernelspec": {
   "display_name": "Python 3",
   "language": "python",
   "name": "python3"
  },
  "language_info": {
   "codemirror_mode": {
    "name": "ipython",
    "version": 2
   },
   "file_extension": ".py",
   "mimetype": "text/x-python",
   "name": "python",
   "nbconvert_exporter": "python",
   "pygments_lexer": "ipython2",
   "version": "2.7.6"
  }
 },
 "nbformat": 4,
 "nbformat_minor": 0
}
