{
 "cells": [
  {
   "cell_type": "code",
   "execution_count": 1,
   "metadata": {
    "collapsed": true,
    "ExecuteTime": {
     "end_time": "2023-06-28T16:58:08.014260100Z",
     "start_time": "2023-06-28T16:58:07.921107Z"
    }
   },
   "outputs": [
    {
     "name": "stdout",
     "output_type": "stream",
     "text": [
      "animal\n",
      "car\n",
      "lane\n",
      "pedestrian\n",
      "traffic sign\n",
      "trafic_light\n"
     ]
    }
   ],
   "source": [
    "import os\n",
    "from dotenv import load_dotenv\n",
    "# Classification for the base classes\n",
    "\n",
    "load_dotenv()\n",
    "\n",
    "# Specify the path to the dataset directory\n",
    "dataset_dir = os.getenv('DATASET_DIR')\n",
    "\n",
    "target_size = (128, 128)\n",
    "\n",
    "\n",
    "# Initialize lists to store the images and labels\n",
    "images = []\n",
    "labels = []\n",
    "preprocess_input = []\n",
    "\n",
    "# Iterate over the subdirectories in the dataset directory\n",
    "for subdir in os.listdir(dataset_dir):\n",
    "    subdir_path = os.path.join(dataset_dir, subdir)\n",
    "    if os.path.isdir(subdir_path):\n",
    "        print(subdir)\n",
    "        # Extract the class label from the subdirectory name\n",
    "        # label = subdir\n",
    "        # # Iterate over the image files in the subdirectory\n",
    "        # for file_name in os.listdir(subdir_path):\n",
    "        #     # Read the image file\n",
    "        #     image_path = os.path.join(subdir_path, file_name)\n",
    "        #\n",
    "        #     # try:\n",
    "        #     labels.append(label)\n",
    "        #     image_input = cv2.imread(image_path, cv2.COLOR_BGR2GRAY)\n",
    "        #     # Preprocess the image (resize, normalize, etc.)\n",
    "        #     image_input = cv2.resize(image_input, target_size)\n",
    "        #     images.append(image_input)\n",
    "        #     img = image_input.load_img(image_path, target_size=(224, 224))\n",
    "        #     x = image_input.img_to_array(img)\n",
    "        #     x = np.expand_dims(x, axis=0)\n",
    "        #     preprocess_input.append(preprocess_input(x))\n",
    "        #     print(\"test\")\n",
    "        #     # except Exception as e:"
   ]
  }
 ],
 "metadata": {
  "kernelspec": {
   "display_name": "Python 3",
   "language": "python",
   "name": "python3"
  },
  "language_info": {
   "codemirror_mode": {
    "name": "ipython",
    "version": 2
   },
   "file_extension": ".py",
   "mimetype": "text/x-python",
   "name": "python",
   "nbconvert_exporter": "python",
   "pygments_lexer": "ipython2",
   "version": "2.7.6"
  }
 },
 "nbformat": 4,
 "nbformat_minor": 0
}
