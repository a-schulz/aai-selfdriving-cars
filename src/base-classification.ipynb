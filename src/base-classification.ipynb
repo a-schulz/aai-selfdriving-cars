{
 "cells": [
  {
   "cell_type": "code",
   "execution_count": 64,
   "metadata": {
    "collapsed": true,
    "ExecuteTime": {
     "end_time": "2023-06-29T08:35:05.601836700Z",
     "start_time": "2023-06-29T08:35:05.578700100Z"
    }
   },
   "outputs": [],
   "source": [
    "import os\n",
    "from dotenv import load_dotenv\n",
    "import numpy as np\n",
    "import cv2\n",
    "# Classification for the base classes\n",
    "\n",
    "load_dotenv()\n",
    "\n",
    "# Specify the path to the dataset directory\n",
    "dataset_dir = os.getenv('DATASET_DIR')\n",
    "\n",
    "target_size = (128, 128)"
   ]
  },
  {
   "cell_type": "code",
   "execution_count": 0,
   "outputs": [],
   "source": [
    "# Get all images\n",
    "def read_images_from_directory(directory):\n",
    "    images = []\n",
    "    labels = []\n",
    "\n",
    "    class_names = []\n",
    "    for root, dirs, files in os.walk(directory):\n",
    "        for class_name in dirs:\n",
    "            class_directory = os.path.join(root, class_name)\n",
    "            for filename in os.listdir(class_directory):\n",
    "                file_path = os.path.join(class_directory, filename)\n",
    "                if os.path.isfile(file_path):\n",
    "                    image = cv2.imread(file_path , cv2.COLOR_BGR2GRAY)\n",
    "                    if image is not None:\n",
    "                        image = cv2.resize(image, target_size)\n",
    "                        images.append(image)\n",
    "                        labels.append(os.path.basename(root) + \".\" + class_name)\n",
    "                        if class_name not in class_names:\n",
    "                            class_names.append(class_name)\n",
    "\n",
    "    images = np.array(images)\n",
    "    labels = np.array(labels)\n",
    "    class_names = np.array(class_names)\n",
    "\n",
    "    return images, labels, class_names"
   ],
   "metadata": {
    "collapsed": false
   }
  },
  {
   "cell_type": "code",
   "execution_count": 71,
   "outputs": [
    {
     "name": "stdout",
     "output_type": "stream",
     "text": [
      "Number of images: 21\n",
      "Number of labels: 21\n",
      "Class names: ['big' 'small' 'agriculture_vehicle' 'bus' 'sportscar' 'curvy' 'adult'\n",
      " 'child' 'handicaped' 'senior' 'danger' 'information' 'restriction'\n",
      " 'speed_limit' 'yield' 'green' 'red' 'yellow']\n",
      "Labels: ['animal_big' 'animal_small' 'car_agriculture_vehicle' 'car_bus'\n",
      " 'car_sportscar' 'lane_curvy' 'pedestrian_adult' 'pedestrian_child'\n",
      " 'pedestrian_handicaped' 'pedestrian_handicaped' 'pedestrian_senior'\n",
      " 'traffic_sign_danger' 'traffic_sign_information'\n",
      " 'traffic_sign_restriction' 'traffic_sign_restriction'\n",
      " 'traffic_sign_restriction' 'traffic_sign_speed_limit'\n",
      " 'traffic_sign_yield' 'trafic_light_green' 'trafic_light_red'\n",
      " 'trafic_light_yellow']\n"
     ]
    }
   ],
   "source": [
    "images, labels, class_names = read_images_from_directory(dataset_dir)\n",
    "images_with_labels = list(zip(images, labels))\n",
    "print(\"Number of images:\", len(images))\n",
    "print(\"Number of labels:\", len(labels))\n",
    "print(\"Class names:\", class_names)\n",
    "print(\"Labels:\", labels)"
   ],
   "metadata": {
    "collapsed": false,
    "ExecuteTime": {
     "end_time": "2023-06-29T08:44:47.090323800Z",
     "start_time": "2023-06-29T08:44:46.335970600Z"
    }
   }
  },
  {
   "cell_type": "code",
   "execution_count": 77,
   "outputs": [
    {
     "name": "stdout",
     "output_type": "stream",
     "text": [
      "First image:  [[[ 18  36  44]\n",
      "  [ 11  30  34]\n",
      "  [ 12  31  35]\n",
      "  ...\n",
      "  [  7  19  27]\n",
      "  [  9  21  29]\n",
      "  [ 15  26  34]]\n",
      "\n",
      " [[ 13  30  33]\n",
      "  [ 12  39  45]\n",
      "  [ 10  39  44]\n",
      "  ...\n",
      "  [ 10  20  27]\n",
      "  [  9  21  29]\n",
      "  [ 14  26  32]]\n",
      "\n",
      " [[ 11  32  34]\n",
      "  [ 21  57  60]\n",
      "  [ 20  56  62]\n",
      "  ...\n",
      "  [ 11  22  36]\n",
      "  [ 11  23  32]\n",
      "  [ 11  23  33]]\n",
      "\n",
      " ...\n",
      "\n",
      " [[ 66 149 142]\n",
      "  [ 75 163 158]\n",
      "  [ 64 148 146]\n",
      "  ...\n",
      "  [ 40  99  83]\n",
      "  [ 44 106  93]\n",
      "  [ 33  89  78]]\n",
      "\n",
      " [[ 62 147 140]\n",
      "  [ 59 149 142]\n",
      "  [ 63 156 144]\n",
      "  ...\n",
      "  [ 54 102  96]\n",
      "  [ 17  82  71]\n",
      "  [ 66 132 133]]\n",
      "\n",
      " [[ 68 152 141]\n",
      "  [ 60 146 138]\n",
      "  [ 77 151 154]\n",
      "  ...\n",
      "  [ 41 111 103]\n",
      "  [ 50 118 113]\n",
      "  [ 45 117 110]]]\n",
      "First image - label:  animal_big\n"
     ]
    }
   ],
   "source": [
    "print(\"First image: \",images_with_labels[0][0])\n",
    "print(\"First image - label: \",images_with_labels[0][1])"
   ],
   "metadata": {
    "collapsed": false,
    "ExecuteTime": {
     "end_time": "2023-06-29T08:46:40.945027200Z",
     "start_time": "2023-06-29T08:46:40.925967500Z"
    }
   }
  }
 ],
 "metadata": {
  "kernelspec": {
   "display_name": "Python 3",
   "language": "python",
   "name": "python3"
  },
  "language_info": {
   "codemirror_mode": {
    "name": "ipython",
    "version": 2
   },
   "file_extension": ".py",
   "mimetype": "text/x-python",
   "name": "python",
   "nbconvert_exporter": "python",
   "pygments_lexer": "ipython2",
   "version": "2.7.6"
  }
 },
 "nbformat": 4,
 "nbformat_minor": 0
}
