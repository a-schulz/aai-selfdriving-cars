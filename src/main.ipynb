{
 "cells": [
  {
   "cell_type": "code",
   "execution_count": 2,
   "id": "7139082b-ecbf-495b-aa56-420f38c307d8",
   "metadata": {},
   "outputs": [],
   "source": [
    "# this is the main script, to analyze imput images via yolo, pass the resluts to more specific classificators"
   ]
  },
  {
   "cell_type": "code",
   "execution_count": 1,
   "id": "3bf7fa22-8d37-4198-bd36-d1ca9f9f1950",
   "metadata": {},
   "outputs": [],
   "source": [
    "import custom_utils as cu\n",
    "from ultralytics import YOLO\n",
    "import cv2\n",
    "#import tensorflow as tf"
   ]
  },
  {
   "cell_type": "code",
   "execution_count": 2,
   "id": "670d63ab-2800-4f04-8170-6a66988ead54",
   "metadata": {},
   "outputs": [],
   "source": [
    "# Load images\n",
    "image_paths,images = cu.get_images('/home/jay/module/ai_app/self_driving_cars/aai-selfdriving-cars/dataset/test_data')"
   ]
  },
  {
   "cell_type": "code",
   "execution_count": 3,
   "id": "c21e89e8-5a41-4b09-afdd-67f980320b45",
   "metadata": {},
   "outputs": [],
   "source": [
    "# Load a model\n",
    "model = YOLO('yolov8n.pt') "
   ]
  },
  {
   "cell_type": "code",
   "execution_count": 4,
   "id": "5d2099ec-dc0b-4aab-b896-182bb6312ffe",
   "metadata": {},
   "outputs": [
    {
     "name": "stderr",
     "output_type": "stream",
     "text": [
      "\n",
      "0: 640x640 10 cars, 1 bus, 5 trucks, 2 traffic lights, 1 stop sign, 1: 640x640 2 persons, 2 bicycles, 3 cars, 3 traffic lights, 1 stop sign, 161.9ms\n",
      "Speed: 3.4ms preprocess, 80.9ms inference, 0.8ms postprocess per image at shape (1, 3, 640, 640)\n",
      "Results saved to \u001b[1m/home/jay/module/ai_app/self_driving_cars/aai-selfdriving-cars/runs/detect/predict11\u001b[0m\n",
      "2 labels saved to /home/jay/module/ai_app/self_driving_cars/aai-selfdriving-cars/runs/detect/predict11/labels\n"
     ]
    }
   ],
   "source": [
    "# Run batched inference on a list of images\n",
    "# results get saved in runs/detect folder \n",
    "results = model.predict(images, save=True, save_txt = True)  # return a list of Results objects"
   ]
  },
  {
   "cell_type": "code",
   "execution_count": 5,
   "id": "949e6a64-ec84-4643-9c9f-e8736cb6accb",
   "metadata": {},
   "outputs": [
    {
     "name": "stdout",
     "output_type": "stream",
     "text": [
      "traffic light\n",
      "traffic light\n",
      "traffic light\n",
      "traffic light\n",
      "traffic light\n"
     ]
    }
   ],
   "source": [
    "# Process results list\n",
    "out_path = '/home/jay/module/ai_app/self_driving_cars/aai-selfdriving-cars/dataset/'\n",
    "image_name = 'traffic_light'\n",
    "file_type = '.jpg'\n",
    "\n",
    "counter = 0\n",
    "for j, result in enumerate(results):\n",
    "    for i,c in enumerate(result.boxes.cls.numpy()):\n",
    "        # find traffic light boxes\n",
    "        if c == 9:\n",
    "            path = out_path + image_name + str(counter) + file_type\n",
    "            print(\"traffic light\")\n",
    "            points = result.boxes.xyxyn.numpy()[i]\n",
    "            extrac = cu.extract_rectangle_from_image(images[j], points, path) \n",
    "            \n",
    "            # cu.write_images(extrac, path) save images TODO cv2.imwrite(path, extrac)\n",
    "            counter += 1\n",
    "        elif c == 11:\n",
    "            # stop sign\n",
    "            pass\n",
    "            # counter += 1"
   ]
  },
  {
   "cell_type": "code",
   "execution_count": null,
   "id": "ac82ab32-0e0c-46f1-9b82-e7bce9f11019",
   "metadata": {},
   "outputs": [],
   "source": []
  }
 ],
 "metadata": {
  "kernelspec": {
   "display_name": ".venv",
   "language": "python",
   "name": ".venv"
  },
  "language_info": {
   "codemirror_mode": {
    "name": "ipython",
    "version": 3
   },
   "file_extension": ".py",
   "mimetype": "text/x-python",
   "name": "python",
   "nbconvert_exporter": "python",
   "pygments_lexer": "ipython3",
   "version": "3.10.12"
  }
 },
 "nbformat": 4,
 "nbformat_minor": 5
}
