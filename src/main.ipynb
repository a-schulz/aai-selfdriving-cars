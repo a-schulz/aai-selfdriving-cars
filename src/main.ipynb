{
 "cells": [
  {
   "cell_type": "code",
   "execution_count": 1,
   "id": "7139082b-ecbf-495b-aa56-420f38c307d8",
   "metadata": {},
   "outputs": [],
   "source": [
    "# this is the main script, to analyze imput images via yolo, pass the resluts to more specific classificators"
   ]
  },
  {
   "cell_type": "code",
   "execution_count": 2,
   "id": "3bf7fa22-8d37-4198-bd36-d1ca9f9f1950",
   "metadata": {},
   "outputs": [],
   "source": [
    "import custom_utils as cu\n",
    "from ultralytics import YOLO\n",
    "import cv2\n",
    "import tensorflow as tf\n",
    "from keras.models import load_model\n",
    "import numpy as np"
   ]
  },
  {
   "cell_type": "code",
   "execution_count": 3,
   "id": "712e36d5",
   "metadata": {},
   "outputs": [],
   "source": [
    "import os\n",
    "from dotenv import load_dotenv\n",
    "# Load .env files\n",
    "load_dotenv()\n",
    "\n",
    "# Get environment variables\n",
    "dataset_dir = os.getenv('DATASET_DIR')\n",
    "input_data = os.path.join(dataset_dir, 'test_data')"
   ]
  },
  {
   "cell_type": "code",
   "execution_count": 4,
   "id": "670d63ab-2800-4f04-8170-6a66988ead54",
   "metadata": {},
   "outputs": [],
   "source": [
    "# Load images\n",
    "image_paths,images = cu.get_images(input_data)"
   ]
  },
  {
   "cell_type": "code",
   "execution_count": 5,
   "id": "c21e89e8-5a41-4b09-afdd-67f980320b45",
   "metadata": {},
   "outputs": [],
   "source": [
    "# Load a model(s)\n",
    "model = YOLO('yolov8n.pt') "
   ]
  },
  {
   "cell_type": "code",
   "execution_count": 6,
   "id": "5d2099ec-dc0b-4aab-b896-182bb6312ffe",
   "metadata": {},
   "outputs": [
    {
     "name": "stderr",
     "output_type": "stream",
     "text": [
      "\n",
      "0: 640x640 2 persons, 2 bicycles, 3 cars, 3 traffic lights, 1 stop sign, 1: 640x640 10 cars, 1 bus, 5 trucks, 2 traffic lights, 1 stop sign, 410.0ms\n",
      "Speed: 5.6ms preprocess, 205.0ms inference, 1.3ms postprocess per image at shape (1, 3, 640, 640)\n",
      "Results saved to \u001b[1m/home/jay/module/ai_app/self_driving_cars/aai-selfdriving-cars/runs/detect/predict9\u001b[0m\n",
      "2 labels saved to /home/jay/module/ai_app/self_driving_cars/aai-selfdriving-cars/runs/detect/predict9/labels\n"
     ]
    }
   ],
   "source": [
    "# Run batched inference on a list of images\n",
    "# results get saved in runs/detect folder \n",
    "results = model.predict(images, save=True, save_txt = True)  # return a list of Results objects"
   ]
  },
  {
   "cell_type": "code",
   "execution_count": null,
   "id": "438dbe16",
   "metadata": {},
   "outputs": [],
   "source": [
    "res = cu.extract_boxes(results, 9, target_size=(74,147))\n",
    "res = np.array([cv2.cvtColor(r, cv2.COLOR_BGR2RGB) for r in res])"
   ]
  },
  {
   "cell_type": "code",
   "execution_count": null,
   "id": "0524b326",
   "metadata": {},
   "outputs": [],
   "source": [
    "# plot image for debug not necessary \n",
    "i = 0\n",
    "while i < len(res):\n",
    "    cv2.imshow(\"Hi\", res[i])\n",
    "    key = cv2.waitKey(0)\n",
    "\n",
    "    if key == ord(\"0\"):\n",
    "        break\n",
    "    elif key == ord(\"1\"):\n",
    "        i += 1\n",
    "            \n",
    "    cv2.destroyAllWindows()"
   ]
  },
  {
   "cell_type": "code",
   "execution_count": 13,
   "id": "ac82ab32-0e0c-46f1-9b82-e7bce9f11019",
   "metadata": {},
   "outputs": [
    {
     "name": "stderr",
     "output_type": "stream",
     "text": [
      "2023-08-14 23:37:28.662415: E tensorflow/compiler/xla/stream_executor/cuda/cuda_driver.cc:268] failed call to cuInit: CUDA_ERROR_NO_DEVICE: no CUDA-capable device is detected\n"
     ]
    }
   ],
   "source": [
    "# should be append by traffic sign\n",
    "light_model = load_model(\"traffic_light_model.keras\")"
   ]
  },
  {
   "cell_type": "code",
   "execution_count": 14,
   "id": "f4687e3c",
   "metadata": {},
   "outputs": [
    {
     "name": "stdout",
     "output_type": "stream",
     "text": [
      "1/1 [==============================] - 0s 218ms/step\n"
     ]
    }
   ],
   "source": [
    "predicted = light_model.predict(res)"
   ]
  },
  {
   "cell_type": "code",
   "execution_count": null,
   "id": "32b16f5d",
   "metadata": {},
   "outputs": [],
   "source": [
    "# Out put traffic light detection\n",
    "print(predicted)\n",
    "i = 0\n",
    "labels = [\"green\", \"none\", \"red\", \"yellow\"]\n",
    "while i < predicted.shape[0]:\n",
    "    cv2.imshow(labels[np.argmax(predicted[i])], res[i])\n",
    "    key = cv2.waitKey(0)\n",
    "\n",
    "    if key == ord(\"0\"):\n",
    "        break\n",
    "    elif key == ord(\"1\"):\n",
    "        i += 1\n",
    "            \n",
    "    cv2.destroyAllWindows()"
   ]
  }
 ],
 "metadata": {
  "kernelspec": {
   "display_name": ".venv",
   "language": "python",
   "name": "python3"
  },
  "language_info": {
   "codemirror_mode": {
    "name": "ipython",
    "version": 3
   },
   "file_extension": ".py",
   "mimetype": "text/x-python",
   "name": "python",
   "nbconvert_exporter": "python",
   "pygments_lexer": "ipython3",
   "version": "3.10.12"
  }
 },
 "nbformat": 4,
 "nbformat_minor": 5
}
