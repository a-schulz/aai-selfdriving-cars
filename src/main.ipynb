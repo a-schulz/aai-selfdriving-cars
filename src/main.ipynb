{
 "cells": [
  {
   "cell_type": "markdown",
   "id": "5b66939f20d234f6",
   "metadata": {
    "collapsed": false
   },
   "source": [
    "# Architecture\n",
    "1. Model from Roboflow to detect if there are traffic signs in the image (detects a traffic sign, the image will be cropped and the cropped image will be classified by the ResNet50 model)\n",
    "1. Self trained model to detect the type of the traffic sign (ResNet50)\n",
    "1. YoloV8n to detect everything else\n",
    "1. If Yolo detects traffic lights use another self trained model to detect the type of the traffic light\n",
    "\n",
    "## Usage\n",
    "First we define all variables and create the necessary models and methods.\n"
   ]
  },
  {
   "cell_type": "code",
   "execution_count": 6,
   "id": "b6f9fe6c1a39f4b6",
   "metadata": {
    "collapsed": false,
    "ExecuteTime": {
     "end_time": "2023-08-17T11:51:39.571426418Z",
     "start_time": "2023-08-17T11:51:33.060972141Z"
    }
   },
   "outputs": [],
   "source": [
    "%%capture\n",
    "# Use code from other notebook\n",
    "%run ./ResNet.ipynb"
   ]
  },
  {
   "cell_type": "code",
   "execution_count": 7,
   "id": "3bf7fa22-8d37-4198-bd36-d1ca9f9f1950",
   "metadata": {
    "ExecuteTime": {
     "end_time": "2023-08-17T11:51:53.387874511Z",
     "start_time": "2023-08-17T11:51:39.571230236Z"
    }
   },
   "outputs": [],
   "source": [
    "import custom_utils as cu\n",
    "from ultralytics import YOLO\n",
    "import cv2\n",
    "import tensorflow as tf\n",
    "from keras.models import load_model\n",
    "import numpy as np\n",
    "\n",
    "# Disable all GPUs to run tensorflow without cuda complications\n",
    "tf.config.set_visible_devices([], 'GPU')"
   ]
  },
  {
   "cell_type": "code",
   "execution_count": 8,
   "id": "712e36d5",
   "metadata": {
    "ExecuteTime": {
     "end_time": "2023-08-17T11:51:53.467440365Z",
     "start_time": "2023-08-17T11:51:53.396598673Z"
    }
   },
   "outputs": [],
   "source": [
    "import os\n",
    "from dotenv import load_dotenv\n",
    "\n",
    "# Load .env files\n",
    "load_dotenv()\n",
    "\n",
    "# Get environment variables\n",
    "dataset_dir = os.getenv('DATASET_DIR')\n",
    "input_data = os.path.join(dataset_dir, 'test_data')\n",
    "\n",
    "image_paths, images = cu.get_images(input_data)"
   ]
  },
  {
   "cell_type": "code",
   "execution_count": 9,
   "id": "670d63ab-2800-4f04-8170-6a66988ead54",
   "metadata": {
    "ExecuteTime": {
     "end_time": "2023-08-17T11:51:53.485333306Z",
     "start_time": "2023-08-17T11:51:53.457185819Z"
    }
   },
   "outputs": [],
   "source": [
    "# Load images\n",
    "image_paths, images = cu.get_images(input_data)"
   ]
  },
  {
   "cell_type": "markdown",
   "id": "3c0dc21775c579b3",
   "metadata": {
    "collapsed": false
   },
   "source": [
    "# First model to detect if there are traffic signs in the image"
   ]
  },
  {
   "cell_type": "code",
   "execution_count": 10,
   "id": "496a2be492b3ca56",
   "metadata": {
    "collapsed": false,
    "ExecuteTime": {
     "end_time": "2023-08-17T11:51:56.793650404Z",
     "start_time": "2023-08-17T11:51:53.496153194Z"
    }
   },
   "outputs": [
    {
     "name": "stdout",
     "output_type": "stream",
     "text": [
      "loading Roboflow workspace...\n",
      "loading Roboflow project...\n",
      "{\n",
      " \"predictions\": [\n",
      "  {\n",
      "   \"x\": 244.0,\n",
      "   \"y\": 139.0,\n",
      "   \"width\": 32.0,\n",
      "   \"height\": 40.0,\n",
      "   \"confidence\": 0.8194526433944702,\n",
      "   \"class\": \"traffic-signs\",\n",
      "   \"image_path\": \"/home/a-schulz/Projects/aai-selfdriving-cars/dataset/test_data/test1.jpg\",\n",
      "   \"prediction_type\": \"ObjectDetectionModel\"\n",
      "  },\n",
      "  {\n",
      "   \"x\": 419.5,\n",
      "   \"y\": 70.0,\n",
      "   \"width\": 63.0,\n",
      "   \"height\": 72.0,\n",
      "   \"confidence\": 0.7951635718345642,\n",
      "   \"class\": \"traffic-signs\",\n",
      "   \"image_path\": \"/home/a-schulz/Projects/aai-selfdriving-cars/dataset/test_data/test1.jpg\",\n",
      "   \"prediction_type\": \"ObjectDetectionModel\"\n",
      "  },\n",
      "  {\n",
      "   \"x\": 494.0,\n",
      "   \"y\": 184.5,\n",
      "   \"width\": 84.0,\n",
      "   \"height\": 99.0,\n",
      "   \"confidence\": 0.579341471195221,\n",
      "   \"class\": \"traffic-signs\",\n",
      "   \"image_path\": \"/home/a-schulz/Projects/aai-selfdriving-cars/dataset/test_data/test1.jpg\",\n",
      "   \"prediction_type\": \"ObjectDetectionModel\"\n",
      "  },\n",
      "  {\n",
      "   \"x\": 484.5,\n",
      "   \"y\": 42.0,\n",
      "   \"width\": 79.0,\n",
      "   \"height\": 66.0,\n",
      "   \"confidence\": 0.4013839364051819,\n",
      "   \"class\": \"traffic-signs\",\n",
      "   \"image_path\": \"/home/a-schulz/Projects/aai-selfdriving-cars/dataset/test_data/test1.jpg\",\n",
      "   \"prediction_type\": \"ObjectDetectionModel\"\n",
      "  }\n",
      " ],\n",
      " \"image\": {\n",
      "  \"width\": \"610\",\n",
      "  \"height\": \"406\"\n",
      " }\n",
      "}\n"
     ]
    }
   ],
   "source": [
    "from roboflow import Roboflow\n",
    "import json\n",
    "# https://universe.roboflow.com/tu-wien-pfowz/traffic-sign-detection-yolov8/model/3\n",
    "\n",
    "rf = Roboflow(api_key=\"xqA88kI3SpGCI49QTYmU\")\n",
    "project = rf.workspace().project(\"traffic-sign-detection-yolov8\")\n",
    "model_traffic_sign_detection = project.version(3).model\n",
    "\n",
    "# Test the model\n",
    "path = os.path.join(dataset_dir, \"test_data/test1.jpg\")\n",
    "\n",
    "# infer on a local image\n",
    "predict = model_traffic_sign_detection.predict(path, confidence=40, overlap=30)\n",
    "predict.save(\"prediction.jpg\")\n",
    "res = predict.json()\n",
    "print(json.dumps(res, indent=1))"
   ]
  },
  {
   "cell_type": "markdown",
   "id": "5cbc5677",
   "metadata": {},
   "source": [
    "# Extract Cropped Images from Predictions JSON.\n",
    "    \n",
    "    This function takes predictions generated from object detection and extracts cropped images based on the predictions.\n",
    "    \n",
    "    Args:\n",
    "        res (dict): A dictionary containing predictions, typically generated from an object detection model.\n",
    "        increase_box (float, optional): A factor by which to increase the bounding box size (default: 1.25).\n",
    "        \n",
    "    Returns:\n",
    "        list: A list containing PIL Image objects representing the cropped regions of interest.\n",
    "    "
   ]
  },
  {
   "cell_type": "code",
   "execution_count": 11,
   "id": "d0d48e19ad32e77f",
   "metadata": {
    "collapsed": false,
    "ExecuteTime": {
     "end_time": "2023-08-17T11:51:56.804455178Z",
     "start_time": "2023-08-17T11:51:56.797433849Z"
    }
   },
   "outputs": [],
   "source": [
    "from PIL import Image\n",
    "\n",
    "\n",
    "def get_cropped_images(res, increase_box=1.25):\n",
    "    '''\n",
    "    Get the cropped images from the predictions json.\n",
    "    @param res: \n",
    "    @param increase_box: \n",
    "    @return: images[]\n",
    "    '''\n",
    "    cropped_images = []\n",
    "    for i in res['predictions']:\n",
    "        if i['class'] != 'traffic-signs':\n",
    "            continue\n",
    "        # Load the image\n",
    "        image_path = i['image_path']\n",
    "        image = Image.open(image_path)\n",
    "\n",
    "        # Get the prediction details\n",
    "        x = i['x']\n",
    "        y = i['y']\n",
    "        width = i['width'] * increase_box\n",
    "        height = i['height'] * increase_box\n",
    "\n",
    "        # Extract the region of interest from the image\n",
    "        roi = image.crop((x - width / 2, y - height / 2, x + width / 2, y + height / 2))\n",
    "        cropped_images.append(roi)\n",
    "    return cropped_images"
   ]
  },
  {
   "cell_type": "markdown",
   "id": "35c593c0",
   "metadata": {},
   "source": [
    "# Plot Cropped Images in a Grid.\n",
    "\n",
    "    This function takes an array of cropped images and plots them in a grid layout. The number of rows and columns\n",
    "    in the grid is calculated to best fit the images.\n",
    "\n",
    "    Args:\n",
    "        image_array (list): A list of PIL Image objects to be plotted.\n",
    "\n",
    "    Returns:\n",
    "        None"
   ]
  },
  {
   "cell_type": "code",
   "execution_count": 12,
   "id": "eb1b966df3727cd",
   "metadata": {
    "collapsed": false,
    "ExecuteTime": {
     "end_time": "2023-08-17T11:51:57.230500773Z",
     "start_time": "2023-08-17T11:51:56.804070833Z"
    }
   },
   "outputs": [
    {
     "data": {
      "text/plain": "<Figure size 1200x1200 with 4 Axes>",
      "image/png": "[encoded data removed]"
     },
     "metadata": {},
     "output_type": "display_data"
    }
   ],
   "source": [
    "import matplotlib.pyplot as plt\n",
    "\n",
    "image_array = get_cropped_images(res)\n",
    "\n",
    "\n",
    "def plot_images(image_array):\n",
    "    num_images = len(image_array)\n",
    "    num_rows = int(num_images ** 0.5)\n",
    "    num_cols = (num_images + num_rows - 1) // num_rows\n",
    "\n",
    "    # Create a subplot grid\n",
    "    fig, axes = plt.subplots(num_rows, num_cols, figsize=(12, 12))\n",
    "\n",
    "    # Flatten the axes array if needed\n",
    "    axes = axes.flatten()\n",
    "\n",
    "    # Plot each image\n",
    "    for i, ax in enumerate(axes):\n",
    "        if i < num_images:\n",
    "            ax.imshow(image_array[i])\n",
    "            ax.axis('off')  # Turn off axis labels\n",
    "        else:\n",
    "            ax.axis('off')  # Turn off unused subplots\n",
    "\n",
    "    # Show the plot\n",
    "    plt.tight_layout()\n",
    "    plt.show()\n",
    "\n",
    "\n",
    "plot_images(image_array)"
   ]
  },
  {
   "cell_type": "markdown",
   "id": "b65ef616a0d34ee2",
   "metadata": {
    "collapsed": false
   },
   "source": [
    "# Second model to detect the type of the traffic sign"
   ]
  },
  {
   "cell_type": "code",
   "execution_count": 13,
   "id": "31b70a910077ea63",
   "metadata": {
    "collapsed": false,
    "ExecuteTime": {
     "end_time": "2023-08-17T11:52:03.236209371Z",
     "start_time": "2023-08-17T11:51:57.232421245Z"
    }
   },
   "outputs": [
    {
     "data": {
      "text/plain": "ResNet(\n  (conv1): Conv2d(3, 64, kernel_size=(7, 7), stride=(2, 2), padding=(3, 3), bias=False)\n  (bn1): BatchNorm2d(64, eps=1e-05, momentum=0.1, affine=True, track_running_stats=True)\n  (relu): ReLU()\n  (maxpool): MaxPool2d(kernel_size=3, stride=2, padding=1, dilation=1, ceil_mode=False)\n  (layer1): Sequential(\n    (0): block(\n      (conv1): Conv2d(64, 64, kernel_size=(1, 1), stride=(1, 1), bias=False)\n      (bn1): BatchNorm2d(64, eps=1e-05, momentum=0.1, affine=True, track_running_stats=True)\n      (conv2): Conv2d(64, 64, kernel_size=(3, 3), stride=(1, 1), padding=(1, 1), bias=False)\n      (bn2): BatchNorm2d(64, eps=1e-05, momentum=0.1, affine=True, track_running_stats=True)\n      (conv3): Conv2d(64, 256, kernel_size=(1, 1), stride=(1, 1), bias=False)\n      (bn3): BatchNorm2d(256, eps=1e-05, momentum=0.1, affine=True, track_running_stats=True)\n      (relu): ReLU()\n      (identity_downsample): Sequential(\n        (0): Conv2d(64, 256, kernel_size=(1, 1), stride=(1, 1), bias=False)\n        (1): BatchNorm2d(256, eps=1e-05, momentum=0.1, affine=True, track_running_stats=True)\n      )\n    )\n    (1): block(\n      (conv1): Conv2d(256, 64, kernel_size=(1, 1), stride=(1, 1), bias=False)\n      (bn1): BatchNorm2d(64, eps=1e-05, momentum=0.1, affine=True, track_running_stats=True)\n      (conv2): Conv2d(64, 64, kernel_size=(3, 3), stride=(1, 1), padding=(1, 1), bias=False)\n      (bn2): BatchNorm2d(64, eps=1e-05, momentum=0.1, affine=True, track_running_stats=True)\n      (conv3): Conv2d(64, 256, kernel_size=(1, 1), stride=(1, 1), bias=False)\n      (bn3): BatchNorm2d(256, eps=1e-05, momentum=0.1, affine=True, track_running_stats=True)\n      (relu): ReLU()\n    )\n    (2): block(\n      (conv1): Conv2d(256, 64, kernel_size=(1, 1), stride=(1, 1), bias=False)\n      (bn1): BatchNorm2d(64, eps=1e-05, momentum=0.1, affine=True, track_running_stats=True)\n      (conv2): Conv2d(64, 64, kernel_size=(3, 3), stride=(1, 1), padding=(1, 1), bias=False)\n      (bn2): BatchNorm2d(64, eps=1e-05, momentum=0.1, affine=True, track_running_stats=True)\n      (conv3): Conv2d(64, 256, kernel_size=(1, 1), stride=(1, 1), bias=False)\n      (bn3): BatchNorm2d(256, eps=1e-05, momentum=0.1, affine=True, track_running_stats=True)\n      (relu): ReLU()\n    )\n  )\n  (layer2): Sequential(\n    (0): block(\n      (conv1): Conv2d(256, 128, kernel_size=(1, 1), stride=(1, 1), bias=False)\n      (bn1): BatchNorm2d(128, eps=1e-05, momentum=0.1, affine=True, track_running_stats=True)\n      (conv2): Conv2d(128, 128, kernel_size=(3, 3), stride=(2, 2), padding=(1, 1), bias=False)\n      (bn2): BatchNorm2d(128, eps=1e-05, momentum=0.1, affine=True, track_running_stats=True)\n      (conv3): Conv2d(128, 512, kernel_size=(1, 1), stride=(1, 1), bias=False)\n      (bn3): BatchNorm2d(512, eps=1e-05, momentum=0.1, affine=True, track_running_stats=True)\n      (relu): ReLU()\n      (identity_downsample): Sequential(\n        (0): Conv2d(256, 512, kernel_size=(1, 1), stride=(2, 2), bias=False)\n        (1): BatchNorm2d(512, eps=1e-05, momentum=0.1, affine=True, track_running_stats=True)\n      )\n    )\n    (1): block(\n      (conv1): Conv2d(512, 128, kernel_size=(1, 1), stride=(1, 1), bias=False)\n      (bn1): BatchNorm2d(128, eps=1e-05, momentum=0.1, affine=True, track_running_stats=True)\n      (conv2): Conv2d(128, 128, kernel_size=(3, 3), stride=(1, 1), padding=(1, 1), bias=False)\n      (bn2): BatchNorm2d(128, eps=1e-05, momentum=0.1, affine=True, track_running_stats=True)\n      (conv3): Conv2d(128, 512, kernel_size=(1, 1), stride=(1, 1), bias=False)\n      (bn3): BatchNorm2d(512, eps=1e-05, momentum=0.1, affine=True, track_running_stats=True)\n      (relu): ReLU()\n    )\n    (2): block(\n      (conv1): Conv2d(512, 128, kernel_size=(1, 1), stride=(1, 1), bias=False)\n      (bn1): BatchNorm2d(128, eps=1e-05, momentum=0.1, affine=True, track_running_stats=True)\n      (conv2): Conv2d(128, 128, kernel_size=(3, 3), stride=(1, 1), padding=(1, 1), bias=False)\n      (bn2): BatchNorm2d(128, eps=1e-05, momentum=0.1, affine=True, track_running_stats=True)\n      (conv3): Conv2d(128, 512, kernel_size=(1, 1), stride=(1, 1), bias=False)\n      (bn3): BatchNorm2d(512, eps=1e-05, momentum=0.1, affine=True, track_running_stats=True)\n      (relu): ReLU()\n    )\n    (3): block(\n      (conv1): Conv2d(512, 128, kernel_size=(1, 1), stride=(1, 1), bias=False)\n      (bn1): BatchNorm2d(128, eps=1e-05, momentum=0.1, affine=True, track_running_stats=True)\n      (conv2): Conv2d(128, 128, kernel_size=(3, 3), stride=(1, 1), padding=(1, 1), bias=False)\n      (bn2): BatchNorm2d(128, eps=1e-05, momentum=0.1, affine=True, track_running_stats=True)\n      (conv3): Conv2d(128, 512, kernel_size=(1, 1), stride=(1, 1), bias=False)\n      (bn3): BatchNorm2d(512, eps=1e-05, momentum=0.1, affine=True, track_running_stats=True)\n      (relu): ReLU()\n    )\n  )\n  (layer3): Sequential(\n    (0): block(\n      (conv1): Conv2d(512, 256, kernel_size=(1, 1), stride=(1, 1), bias=False)\n      (bn1): BatchNorm2d(256, eps=1e-05, momentum=0.1, affine=True, track_running_stats=True)\n      (conv2): Conv2d(256, 256, kernel_size=(3, 3), stride=(2, 2), padding=(1, 1), bias=False)\n      (bn2): BatchNorm2d(256, eps=1e-05, momentum=0.1, affine=True, track_running_stats=True)\n      (conv3): Conv2d(256, 1024, kernel_size=(1, 1), stride=(1, 1), bias=False)\n      (bn3): BatchNorm2d(1024, eps=1e-05, momentum=0.1, affine=True, track_running_stats=True)\n      (relu): ReLU()\n      (identity_downsample): Sequential(\n        (0): Conv2d(512, 1024, kernel_size=(1, 1), stride=(2, 2), bias=False)\n        (1): BatchNorm2d(1024, eps=1e-05, momentum=0.1, affine=True, track_running_stats=True)\n      )\n    )\n    (1): block(\n      (conv1): Conv2d(1024, 256, kernel_size=(1, 1), stride=(1, 1), bias=False)\n      (bn1): BatchNorm2d(256, eps=1e-05, momentum=0.1, affine=True, track_running_stats=True)\n      (conv2): Conv2d(256, 256, kernel_size=(3, 3), stride=(1, 1), padding=(1, 1), bias=False)\n      (bn2): BatchNorm2d(256, eps=1e-05, momentum=0.1, affine=True, track_running_stats=True)\n      (conv3): Conv2d(256, 1024, kernel_size=(1, 1), stride=(1, 1), bias=False)\n      (bn3): BatchNorm2d(1024, eps=1e-05, momentum=0.1, affine=True, track_running_stats=True)\n      (relu): ReLU()\n    )\n    (2): block(\n      (conv1): Conv2d(1024, 256, kernel_size=(1, 1), stride=(1, 1), bias=False)\n      (bn1): BatchNorm2d(256, eps=1e-05, momentum=0.1, affine=True, track_running_stats=True)\n      (conv2): Conv2d(256, 256, kernel_size=(3, 3), stride=(1, 1), padding=(1, 1), bias=False)\n      (bn2): BatchNorm2d(256, eps=1e-05, momentum=0.1, affine=True, track_running_stats=True)\n      (conv3): Conv2d(256, 1024, kernel_size=(1, 1), stride=(1, 1), bias=False)\n      (bn3): BatchNorm2d(1024, eps=1e-05, momentum=0.1, affine=True, track_running_stats=True)\n      (relu): ReLU()\n    )\n    (3): block(\n      (conv1): Conv2d(1024, 256, kernel_size=(1, 1), stride=(1, 1), bias=False)\n      (bn1): BatchNorm2d(256, eps=1e-05, momentum=0.1, affine=True, track_running_stats=True)\n      (conv2): Conv2d(256, 256, kernel_size=(3, 3), stride=(1, 1), padding=(1, 1), bias=False)\n      (bn2): BatchNorm2d(256, eps=1e-05, momentum=0.1, affine=True, track_running_stats=True)\n      (conv3): Conv2d(256, 1024, kernel_size=(1, 1), stride=(1, 1), bias=False)\n      (bn3): BatchNorm2d(1024, eps=1e-05, momentum=0.1, affine=True, track_running_stats=True)\n      (relu): ReLU()\n    )\n    (4): block(\n      (conv1): Conv2d(1024, 256, kernel_size=(1, 1), stride=(1, 1), bias=False)\n      (bn1): BatchNorm2d(256, eps=1e-05, momentum=0.1, affine=True, track_running_stats=True)\n      (conv2): Conv2d(256, 256, kernel_size=(3, 3), stride=(1, 1), padding=(1, 1), bias=False)\n      (bn2): BatchNorm2d(256, eps=1e-05, momentum=0.1, affine=True, track_running_stats=True)\n      (conv3): Conv2d(256, 1024, kernel_size=(1, 1), stride=(1, 1), bias=False)\n      (bn3): BatchNorm2d(1024, eps=1e-05, momentum=0.1, affine=True, track_running_stats=True)\n      (relu): ReLU()\n    )\n    (5): block(\n      (conv1): Conv2d(1024, 256, kernel_size=(1, 1), stride=(1, 1), bias=False)\n      (bn1): BatchNorm2d(256, eps=1e-05, momentum=0.1, affine=True, track_running_stats=True)\n      (conv2): Conv2d(256, 256, kernel_size=(3, 3), stride=(1, 1), padding=(1, 1), bias=False)\n      (bn2): BatchNorm2d(256, eps=1e-05, momentum=0.1, affine=True, track_running_stats=True)\n      (conv3): Conv2d(256, 1024, kernel_size=(1, 1), stride=(1, 1), bias=False)\n      (bn3): BatchNorm2d(1024, eps=1e-05, momentum=0.1, affine=True, track_running_stats=True)\n      (relu): ReLU()\n    )\n  )\n  (layer4): Sequential(\n    (0): block(\n      (conv1): Conv2d(1024, 512, kernel_size=(1, 1), stride=(1, 1), bias=False)\n      (bn1): BatchNorm2d(512, eps=1e-05, momentum=0.1, affine=True, track_running_stats=True)\n      (conv2): Conv2d(512, 512, kernel_size=(3, 3), stride=(2, 2), padding=(1, 1), bias=False)\n      (bn2): BatchNorm2d(512, eps=1e-05, momentum=0.1, affine=True, track_running_stats=True)\n      (conv3): Conv2d(512, 2048, kernel_size=(1, 1), stride=(1, 1), bias=False)\n      (bn3): BatchNorm2d(2048, eps=1e-05, momentum=0.1, affine=True, track_running_stats=True)\n      (relu): ReLU()\n      (identity_downsample): Sequential(\n        (0): Conv2d(1024, 2048, kernel_size=(1, 1), stride=(2, 2), bias=False)\n        (1): BatchNorm2d(2048, eps=1e-05, momentum=0.1, affine=True, track_running_stats=True)\n      )\n    )\n    (1): block(\n      (conv1): Conv2d(2048, 512, kernel_size=(1, 1), stride=(1, 1), bias=False)\n      (bn1): BatchNorm2d(512, eps=1e-05, momentum=0.1, affine=True, track_running_stats=True)\n      (conv2): Conv2d(512, 512, kernel_size=(3, 3), stride=(1, 1), padding=(1, 1), bias=False)\n      (bn2): BatchNorm2d(512, eps=1e-05, momentum=0.1, affine=True, track_running_stats=True)\n      (conv3): Conv2d(512, 2048, kernel_size=(1, 1), stride=(1, 1), bias=False)\n      (bn3): BatchNorm2d(2048, eps=1e-05, momentum=0.1, affine=True, track_running_stats=True)\n      (relu): ReLU()\n    )\n    (2): block(\n      (conv1): Conv2d(2048, 512, kernel_size=(1, 1), stride=(1, 1), bias=False)\n      (bn1): BatchNorm2d(512, eps=1e-05, momentum=0.1, affine=True, track_running_stats=True)\n      (conv2): Conv2d(512, 512, kernel_size=(3, 3), stride=(1, 1), padding=(1, 1), bias=False)\n      (bn2): BatchNorm2d(512, eps=1e-05, momentum=0.1, affine=True, track_running_stats=True)\n      (conv3): Conv2d(512, 2048, kernel_size=(1, 1), stride=(1, 1), bias=False)\n      (bn3): BatchNorm2d(2048, eps=1e-05, momentum=0.1, affine=True, track_running_stats=True)\n      (relu): ReLU()\n    )\n  )\n  (avgpool): AdaptiveAvgPool2d(output_size=(1, 1))\n  (fc): Linear(in_features=2048, out_features=43, bias=True)\n)"
     },
     "execution_count": 13,
     "metadata": {},
     "output_type": "execute_result"
    }
   ],
   "source": [
    "import torch\n",
    "\n",
    "model_traffic_sign_classification = ResNet50(img_channel=3, num_classes=43)\n",
    "model_weights = os.path.join(os.getcwd(),\n",
    "                             \"traffic_sign_model/best_model_cuda.pt\" if torch.cuda.is_available() else \"traffic_sign_model/best_model_cpu.pt\")\n",
    "model_traffic_sign_classification.load_state_dict(torch.load(model_weights))\n",
    "model_traffic_sign_classification.eval()"
   ]
  },
  {
   "cell_type": "markdown",
   "id": "99446dad",
   "metadata": {},
   "source": [
    "# Create a Preprocessing Pipeline\n",
    "\n",
    "This code snippet creates a preprocessing pipeline using the torchvision.transforms module. The pipeline applies a series of transformations to input images, preparing them for use in a neural network.\n",
    "\n",
    "## The pipeline includes the following transformations:\n",
    "1. Resize: Resizes the input image to a size of 256x256 pixels, maintaining aspect ratio.\n",
    "2. CenterCrop: Crops the center of the resized image to a size of 224x224 pixels, often used for input to neural networks.\n",
    "3. ToTensor: Converts the image to a PyTorch tensor, allowing it to be used as input to a neural network.\n",
    "4. Normalize: Applies normalization to the image tensor. This involves subtracting the specified mean values and dividing by the specified standard deviation values for each channel.\n",
    "\n",
    "## Transform Parameters:\n",
    "- Resize: The image is resized to a square of size 256x256 pixels.\n",
    "- CenterCrop: The center of the resized image is cropped to 224x224 pixels.\n",
    "- ToTensor: Converts the image to a tensor, changing the data type to float and scaling pixel values to the range [0, 1].\n",
    "- Normalize: Normalizes the tensor's pixel values using the provided mean and standard deviation values for each channel.\n",
    "\n",
    "# Usage Example:\n",
    "transformed_image = preprocess(original_image)\n",
    "\n",
    "Here, 'original_image' is a PIL Image object, and 'transformed_image' is a processed tensor suitable for feeding into a neural network."
   ]
  },
  {
   "cell_type": "code",
   "execution_count": 14,
   "id": "27f7ae7bcb5426df",
   "metadata": {
    "collapsed": false,
    "ExecuteTime": {
     "end_time": "2023-08-17T11:52:03.240999065Z",
     "start_time": "2023-08-17T11:52:03.237720490Z"
    }
   },
   "outputs": [],
   "source": [
    "from torchvision import transforms\n",
    "\n",
    "# Create a preprocessing pipeline\n",
    "preprocess = transforms.Compose([\n",
    "    transforms.Resize(256),\n",
    "    transforms.CenterCrop(224),\n",
    "    transforms.ToTensor(),\n",
    "    transforms.Normalize(\n",
    "        mean=[0.485, 0.456, 0.406],\n",
    "        std=[0.229, 0.224, 0.225]\n",
    "    )])"
   ]
  },
  {
   "cell_type": "markdown",
   "id": "ea6f05c5",
   "metadata": {},
   "source": [
    "# Load CSV Data as a Dictionary\n",
    "\n",
    "This code snippet reads a CSV file and converts its content into a dictionary format.\n",
    "\n",
    "## Function:\n",
    "- The 'load_csv_as_dict' function is called and expects the path to a CSV file as an argument.\n",
    "- The CSV file is opened and its content is processed line by line.\n",
    "- The first line (header) is skipped.\n",
    "- For each line, the values of the first two columns are stored as a key-value pair in the 'result' dictionary.\n",
    "\n",
    "## Arguments:\n",
    "- file_path (str): The path to the CSV file to be loaded.\n",
    "\n",
    "## Return Value:\n",
    "- dict: A dictionary containing data from the CSV file. The first column is used as keys and the second column as values.\n",
    "\n",
    "## Example Usage:\n",
    "- The example demonstrates how to use the 'load_csv_as_dict' function to load data from a CSV file and store it in the 'labels' dictionary.\n"
   ]
  },
  {
   "cell_type": "code",
   "execution_count": 15,
   "id": "3c7df860d662ecba",
   "metadata": {
    "collapsed": false,
    "ExecuteTime": {
     "end_time": "2023-08-17T11:52:03.285281410Z",
     "start_time": "2023-08-17T11:52:03.241694902Z"
    }
   },
   "outputs": [],
   "source": [
    "import csv\n",
    "\n",
    "\n",
    "def load_csv_as_dict(file_path):\n",
    "    result = {}\n",
    "\n",
    "    with open(file_path, 'r') as csv_file:\n",
    "        csv_reader = csv.reader(csv_file)\n",
    "        next(csv_reader)  # Skip the header\n",
    "        for row in csv_reader:\n",
    "            if len(row) >= 2:\n",
    "                result[row[0]] = row[1]\n",
    "\n",
    "    return result\n",
    "\n",
    "\n",
    "labels_traffic_sign = load_csv_as_dict(os.path.join(os.getcwd(), \"traffic_sign_model/classid_label.csv\"))"
   ]
  },
  {
   "cell_type": "markdown",
   "id": "f460d1a0",
   "metadata": {},
   "source": [
    "# Test the Model\n",
    "\n",
    "This code snippet demonstrates how to use a trained traffic sign classification model to make predictions on an input image.\n",
    "\n",
    "## Steps:\n",
    "1. Import the necessary modules.\n",
    "2. Define the path to the input image file.\n",
    "3. Open the image using the PIL library and convert it to RGB mode.\n",
    "4. Preprocess the image using a preprocessing pipeline.\n",
    "5. Expand the dimensions of the image tensor to create a batch-like structure.\n",
    "6. Set the model to evaluation mode using the 'eval()' method.\n",
    "7. Feed the preprocessed image tensor into the model to obtain predictions.\n",
    "8. Use the 'torch.max()' function to get the index of the predicted class.\n",
    "9. Print the predicted traffic sign label using the 'labels' dictionary.\n",
    "\n",
    "## Important Variables and Functions:\n",
    "- path: The path to the input image file.\n",
    "- img: The preprocessed image tensor.\n",
    "- model_traffic_sign_classification: The trained traffic sign classification model.\n",
    "- labels: The dictionary containing traffic sign labels.\n",
    "\n",
    "## Usage Notes:\n",
    "- This code assumes that 'dataset_dir' points to the directory containing the dataset and 'preprocess' is the preprocessing pipeline as explained in the previous documentation.\n",
    "- The 'model_traffic_sign_classification' should be loaded with a trained traffic sign classification model.\n",
    "- The 'labels' dictionary should contain class labels corresponding to class indices.\n",
    "\n",
    "## Example Output:\n",
    "- The code prints the predicted label of the traffic sign in the provided input image.\n",
    "\n",
    "## Note:\n",
    "- The 'torch' library is required for the code to work properly.\n"
   ]
  },
  {
   "cell_type": "code",
   "execution_count": 16,
   "id": "89dde334c3a5d114",
   "metadata": {
    "collapsed": false,
    "ExecuteTime": {
     "end_time": "2023-08-17T11:52:03.500172890Z",
     "start_time": "2023-08-17T11:52:03.254469431Z"
    }
   },
   "outputs": [
    {
     "name": "stdout",
     "output_type": "stream",
     "text": [
      "traffic circle\n"
     ]
    }
   ],
   "source": [
    "from PIL import Image\n",
    "\n",
    "# Test the model\n",
    "path = os.path.join(dataset_dir, \"test_data/test1.jpg\")\n",
    "img = Image.open(path).convert(\"RGB\")\n",
    "img = preprocess(img)\n",
    "img = img.unsqueeze(0)\n",
    "model_traffic_sign_classification.eval()\n",
    "res = model_traffic_sign_classification(img)\n",
    "_, index = torch.max(res, 1)\n",
    "print(labels_traffic_sign[str(int(index[0]))])"
   ]
  },
  {
   "cell_type": "code",
   "execution_count": 17,
   "id": "c21e89e8-5a41-4b09-afdd-67f980320b45",
   "metadata": {
    "ExecuteTime": {
     "end_time": "2023-08-17T11:52:03.593787022Z",
     "start_time": "2023-08-17T11:52:03.500354699Z"
    }
   },
   "outputs": [],
   "source": [
    "# Load a model(s)\n",
    "model_yolov8n = YOLO('yolov8n.pt')\n",
    "labels_yolov8n = load_csv_as_dict(os.path.join(os.getcwd(), \"yolo/yolov8n_classuid_label.csv\"))"
   ]
  },
  {
   "cell_type": "code",
   "execution_count": 18,
   "id": "5d2099ec-dc0b-4aab-b896-182bb6312ffe",
   "metadata": {
    "ExecuteTime": {
     "end_time": "2023-08-17T11:52:07.533526346Z",
     "start_time": "2023-08-17T11:52:03.595537018Z"
    }
   },
   "outputs": [
    {
     "name": "stderr",
     "output_type": "stream",
     "text": [
      "\n",
      "0: 640x640 2 persons, 2 bicycles, 3 cars, 3 traffic lights, 1 stop sign, 1: 640x640 10 cars, 1 bus, 5 trucks, 2 traffic lights, 1 stop sign, 212.2ms\n",
      "Speed: 19.5ms preprocess, 106.1ms inference, 12.5ms postprocess per image at shape (1, 3, 640, 640)\n"
     ]
    }
   ],
   "source": [
    "# Run batched inference on a list of images\n",
    "# results get saved in runs/detect folder \n",
    "results = model_yolov8n.predict(images)  # return a list of Results objects"
   ]
  },
  {
   "cell_type": "code",
   "execution_count": 19,
   "id": "ac82ab32-0e0c-46f1-9b82-e7bce9f11019",
   "metadata": {
    "ExecuteTime": {
     "end_time": "2023-08-17T11:52:07.954935288Z",
     "start_time": "2023-08-17T11:52:07.532728345Z"
    }
   },
   "outputs": [],
   "source": [
    "# should be append by traffic sign\n",
    "model_traffic_light_classification = load_model(\n",
    "    os.path.join(os.getcwd(), \"traffic_light_model/traffic_light_model_cpu.keras\"))"
   ]
  },
  {
   "cell_type": "code",
   "execution_count": 20,
   "id": "f4687e3c",
   "metadata": {
    "ExecuteTime": {
     "end_time": "2023-08-17T11:52:08.338292337Z",
     "start_time": "2023-08-17T11:52:07.965724888Z"
    }
   },
   "outputs": [
    {
     "name": "stdout",
     "output_type": "stream",
     "text": [
      "1/1 [==============================] - 0s 290ms/step\n"
     ]
    }
   ],
   "source": [
    "res = cu.extract_boxes(results, 9, target_size=(74, 147))\n",
    "res = np.array(res)\n",
    "predicted = model_traffic_light_classification.predict(res)"
   ]
  },
  {
   "cell_type": "markdown",
   "id": "f3c4b83c",
   "metadata": {},
   "source": [
    "## Output Traffic Light Detection Results\n",
    "\n",
    "This code snippet displays the results of traffic light detection, showing images of traffic lights and their corresponding predicted labels.\n",
    "\n",
    "# Steps:\n",
    "1. Print the 'predicted' array, which likely contains predicted labels for traffic light states.\n",
    "2. Initialize the index 'i' to 0.\n",
    "3. Create a list 'labels' containing traffic light state labels (e.g., \"green\", \"none\", \"red\", \"yellow\").\n",
    "4. Enter a loop that displays images using OpenCV's 'cv2.imshow()' function.\n",
    "5. The loop waits for a key press using 'cv2.waitKey(0)'.\n",
    "6. If the key pressed is '0', the loop breaks, ending the visualization.\n",
    "7. If the key pressed is '1', the index 'i' is incremented to visualize the next image.\n",
    "8. Close any open OpenCV windows using 'cv2.destroyAllWindows()' at the end of the loop.\n",
    "\n",
    "# Usage:\n",
    "- Use this code snippet when you want to visualize the results of traffic light detection.\n",
    "- The 'predicted' array should contain predicted labels for traffic light states.\n",
    "- Make sure to include appropriate logic to handle the size of 'predicted' and avoid index out of range errors.\n",
    "\n",
    "# Note:\n",
    "- This code uses the OpenCV library ('cv2') for image display and key capture.\n",
    "- The 'labels' list should be consistent with the predicted label order in the 'predicted' array.\n",
    "- Press the '0' key to exit the visualization.\n",
    "- Press the '1' key to navigate to the next image.\n"
   ]
  },
  {
   "cell_type": "code",
   "execution_count": 21,
   "id": "32b16f5d",
   "metadata": {
    "ExecuteTime": {
     "end_time": "2023-08-17T11:52:08.351347583Z",
     "start_time": "2023-08-17T11:52:08.341035871Z"
    }
   },
   "outputs": [
    {
     "name": "stdout",
     "output_type": "stream",
     "text": [
      "green\n",
      "none\n",
      "none\n",
      "green\n",
      "none\n"
     ]
    }
   ],
   "source": [
    "# Out put traffic light detection\n",
    "# print(predicted)\n",
    "labels_traffic_light = [\"green\", \"none\", \"red\", \"yellow\"]\n",
    "for i in range(predicted.shape[0]):\n",
    "    # fixme: @jakob\n",
    "    # while i < predicted.shape[0]:\n",
    "    # cv2.imshow(labels[np.argmax(predicted[i])], res[i])\n",
    "    # key = cv2.waitKey(0)\n",
    "    # \n",
    "    # if key == ord(\"0\"):\n",
    "    #     break\n",
    "    # elif key == ord(\"1\"):\n",
    "    #     i += 1\n",
    "    # \n",
    "    # cv2.destroyAllWindows()\n",
    "    print(labels_traffic_light[np.argmax(predicted[i])])"
   ]
  },
  {
   "cell_type": "markdown",
   "id": "13cd9a543dd03b83",
   "metadata": {
    "collapsed": false
   },
   "source": [
    "# Everything together"
   ]
  },
  {
   "cell_type": "markdown",
   "id": "91269257",
   "metadata": {},
   "source": [
    "# Detect and Record Object Information in Images\n",
    "\n",
    "This code snippet processes a list of images, detecting and recording information about traffic signs, traffic lights, and other objects present in each image.\n",
    "\n",
    "## Steps:\n",
    "1. Initialize an empty dictionary 'results' to store the detected object information for each image.\n",
    "2. Iterate through the images using 'enumerate(image_paths)'.\n",
    "3. For each image, create a sub-dictionary structure within 'results' to store information about traffic signs, traffic lights, and other objects.\n",
    "4. Use the 'model_traffic_sign_detection' to predict traffic signs in the image with specified confidence and overlap parameters.\n",
    "5. If traffic signs are detected, crop and preprocess the images, then use 'model_traffic_sign_classification' to classify the traffic sign types and add them to the 'traffic signs' list in 'results'.\n",
    "6. To-do: Comment suggests future work to improve traffic sign type detection accuracy.\n",
    "7. Detect other objects (to be implemented based on your requirements).\n",
    "8. If there is a traffic light detected, use a similar approach to detect the traffic light type.\n",
    "9. Print the final 'results' dictionary containing detected object information.\n",
    "\n",
    "## Usage Notes:\n",
    "- This code assumes that you have 'image_paths' as a list of image file paths.\n",
    "- 'model_traffic_sign_detection' is used for traffic sign detection, and 'model_traffic_sign_classification' is used for traffic sign type classification.\n",
    "- The 'get_cropped_images' and 'plot_images' functions are used for preprocessing and visualization, respectively.\n",
    "\n",
    "Note:\n",
    "- This code serves as a template and might need additional implementation for detecting other objects and traffic light types.\n"
   ]
  },
  {
   "cell_type": "code",
   "execution_count": 22,
   "id": "a9a45802",
   "metadata": {
    "ExecuteTime": {
     "end_time": "2023-08-17T11:52:08.427652485Z",
     "start_time": "2023-08-17T11:52:08.355989369Z"
    }
   },
   "outputs": [],
   "source": [
    "# Load a model(s)\n",
    "model_yolov8n = YOLO('yolov8n.pt')\n",
    "labels_yolov8n = load_csv_as_dict(os.path.join(os.getcwd(), \"yolo/yolov8n_classuid_label.csv\"))"
   ]
  },
  {
   "cell_type": "code",
   "execution_count": 23,
   "id": "dabdbd9c",
   "metadata": {
    "ExecuteTime": {
     "end_time": "2023-08-17T11:52:08.678376174Z",
     "start_time": "2023-08-17T11:52:08.415754676Z"
    }
   },
   "outputs": [],
   "source": [
    "# should be append by traffic sign\n",
    "model_traffic_light_classification = load_model(\n",
    "    os.path.join(os.getcwd(), \"traffic_light_model/traffic_light_model_cpu.keras\"))"
   ]
  },
  {
   "cell_type": "code",
   "execution_count": 24,
   "id": "b99586e530e823f1",
   "metadata": {
    "collapsed": false,
    "ExecuteTime": {
     "end_time": "2023-08-17T11:52:16.523540008Z",
     "start_time": "2023-08-17T11:52:08.687063434Z"
    }
   },
   "outputs": [
    {
     "name": "stdout",
     "output_type": "stream",
     "text": [
      "['/home/a-schulz/Projects/aai-selfdriving-cars/dataset/test_data/test1.jpg', '/home/a-schulz/Projects/aai-selfdriving-cars/dataset/test_data/test2.jpg']\n"
     ]
    },
    {
     "name": "stderr",
     "output_type": "stream",
     "text": [
      "\n",
      "0: 448x640 2 persons, 2 bicycles, 3 cars, 3 traffic lights, 1 stop sign, 52.8ms\n",
      "Speed: 2.5ms preprocess, 52.8ms inference, 3.2ms postprocess per image at shape (1, 3, 448, 640)\n",
      "Results saved to \u001B[1m/home/a-schulz/Projects/aai-selfdriving-cars/runs/detect/predict19\u001B[0m\n"
     ]
    },
    {
     "name": "stdout",
     "output_type": "stream",
     "text": [
      "1/1 [==============================] - 0s 203ms/step\n"
     ]
    },
    {
     "name": "stderr",
     "output_type": "stream",
     "text": [
      "\n",
      "0: 448x640 10 cars, 1 bus, 5 trucks, 2 traffic lights, 1 stop sign, 13.8ms\n",
      "Speed: 3.4ms preprocess, 13.8ms inference, 4.4ms postprocess per image at shape (1, 3, 448, 640)\n",
      "Results saved to \u001B[1m/home/a-schulz/Projects/aai-selfdriving-cars/runs/detect/predict19\u001B[0m\n"
     ]
    },
    {
     "name": "stdout",
     "output_type": "stream",
     "text": [
      "1/1 [==============================] - 0s 42ms/step\n",
      "{\n",
      "  \"/home/a-schulz/Projects/aai-selfdriving-cars/dataset/test_data/test1.jpg\": {\n",
      "    \"traffic signs\": [\n",
      "      [\n",
      "        \"traffic circle\",\n",
      "        [\n",
      "          228.0,\n",
      "          119.0,\n",
      "          32.0,\n",
      "          40.0\n",
      "        ]\n",
      "      ],\n",
      "      [\n",
      "        \"traffic circle\",\n",
      "        [\n",
      "          388.0,\n",
      "          34.0,\n",
      "          63.0,\n",
      "          72.0\n",
      "        ]\n",
      "      ],\n",
      "      [\n",
      "        \"traffic circle\",\n",
      "        [\n",
      "          452.0,\n",
      "          135.0,\n",
      "          84.0,\n",
      "          99.0\n",
      "        ]\n",
      "      ],\n",
      "      [\n",
      "        \"no overtaking\",\n",
      "        [\n",
      "          445.0,\n",
      "          9.0,\n",
      "          79.0,\n",
      "          66.0\n",
      "        ]\n",
      "      ]\n",
      "    ],\n",
      "    \"traffic lights\": [\n",
      "      [\n",
      "        \"green\",\n",
      "        [\n",
      "          110.64862060546875,\n",
      "          273.4256896972656,\n",
      "          55.599151611328125,\n",
      "          140.9778594970703\n",
      "        ]\n",
      "      ],\n",
      "      [\n",
      "        \"none\",\n",
      "        [\n",
      "          155.53912353515625,\n",
      "          290.3097229003906,\n",
      "          69.19234466552734,\n",
      "          159.4980010986328\n",
      "        ]\n",
      "      ],\n",
      "      [\n",
      "        \"green\",\n",
      "        [\n",
      "          106.89668273925781,\n",
      "          321.7001953125,\n",
      "          37.048866271972656,\n",
      "          89.55355834960938\n",
      "        ]\n",
      "      ],\n",
      "      [\n",
      "        \"green\",\n",
      "        [\n",
      "          110.64862060546875,\n",
      "          273.4256896972656,\n",
      "          55.599151611328125,\n",
      "          140.9778594970703\n",
      "        ]\n",
      "      ],\n",
      "      [\n",
      "        \"none\",\n",
      "        [\n",
      "          155.53912353515625,\n",
      "          290.3097229003906,\n",
      "          69.19234466552734,\n",
      "          159.4980010986328\n",
      "        ]\n",
      "      ],\n",
      "      [\n",
      "        \"green\",\n",
      "        [\n",
      "          106.89668273925781,\n",
      "          321.7001953125,\n",
      "          37.048866271972656,\n",
      "          89.55355834960938\n",
      "        ]\n",
      "      ],\n",
      "      [\n",
      "        \"green\",\n",
      "        [\n",
      "          110.64862060546875,\n",
      "          273.4256896972656,\n",
      "          55.599151611328125,\n",
      "          140.9778594970703\n",
      "        ]\n",
      "      ],\n",
      "      [\n",
      "        \"none\",\n",
      "        [\n",
      "          155.53912353515625,\n",
      "          290.3097229003906,\n",
      "          69.19234466552734,\n",
      "          159.4980010986328\n",
      "        ]\n",
      "      ],\n",
      "      [\n",
      "        \"green\",\n",
      "        [\n",
      "          106.89668273925781,\n",
      "          321.7001953125,\n",
      "          37.048866271972656,\n",
      "          89.55355834960938\n",
      "        ]\n",
      "      ]\n",
      "    ],\n",
      "    \"other objects\": [\n",
      "      [\n",
      "        \"person\",\n",
      "        [\n",
      "          110.64862060546875,\n",
      "          273.4256896972656,\n",
      "          55.599151611328125,\n",
      "          140.9778594970703\n",
      "        ]\n",
      "      ],\n",
      "      [\n",
      "        \"person\",\n",
      "        [\n",
      "          155.53912353515625,\n",
      "          290.3097229003906,\n",
      "          69.19234466552734,\n",
      "          159.4980010986328\n",
      "        ]\n",
      "      ],\n",
      "      [\n",
      "        \"bicycle\",\n",
      "        [\n",
      "          106.89668273925781,\n",
      "          321.7001953125,\n",
      "          37.048866271972656,\n",
      "          89.55355834960938\n",
      "        ]\n",
      "      ],\n",
      "      [\n",
      "        \"car\",\n",
      "        [\n",
      "          580.178955078125,\n",
      "          373.9930114746094,\n",
      "          59.05255126953125,\n",
      "          62.02764892578125\n",
      "        ]\n",
      "      ],\n",
      "      [\n",
      "        \"bicycle\",\n",
      "        [\n",
      "          160.70932006835938,\n",
      "          340.19183349609375,\n",
      "          43.48016357421875,\n",
      "          102.79342651367188\n",
      "        ]\n",
      "      ],\n",
      "      [\n",
      "        \"car\",\n",
      "        [\n",
      "          140.5308837890625,\n",
      "          225.49050903320312,\n",
      "          26.15985870361328,\n",
      "          25.539901733398438\n",
      "        ]\n",
      "      ],\n",
      "      [\n",
      "        \"car\",\n",
      "        [\n",
      "          321.19805908203125,\n",
      "          248.18081665039062,\n",
      "          85.39102172851562,\n",
      "          81.91802978515625\n",
      "        ]\n",
      "      ]\n",
      "    ]\n",
      "  },\n",
      "  \"/home/a-schulz/Projects/aai-selfdriving-cars/dataset/test_data/test2.jpg\": {\n",
      "    \"traffic signs\": [\n",
      "      [\n",
      "        \"attention wildlife\",\n",
      "        [\n",
      "          948.5,\n",
      "          0.0,\n",
      "          137,\n",
      "          138\n",
      "        ]\n",
      "      ],\n",
      "      [\n",
      "        \"must turn right or straight\",\n",
      "        [\n",
      "          168.5,\n",
      "          347.0,\n",
      "          57,\n",
      "          66\n",
      "        ]\n",
      "      ]\n",
      "    ],\n",
      "    \"traffic lights\": [\n",
      "      [\n",
      "        \"green\",\n",
      "        [\n",
      "          604.395263671875,\n",
      "          383.51641845703125,\n",
      "          162.93304443359375,\n",
      "          125.85018920898438\n",
      "        ]\n",
      "      ],\n",
      "      [\n",
      "        \"none\",\n",
      "        [\n",
      "          900.55224609375,\n",
      "          184.17813110351562,\n",
      "          20.92645263671875,\n",
      "          51.10725402832031\n",
      "        ]\n",
      "      ],\n",
      "      [\n",
      "        \"green\",\n",
      "        [\n",
      "          604.395263671875,\n",
      "          383.51641845703125,\n",
      "          162.93304443359375,\n",
      "          125.85018920898438\n",
      "        ]\n",
      "      ],\n",
      "      [\n",
      "        \"none\",\n",
      "        [\n",
      "          900.55224609375,\n",
      "          184.17813110351562,\n",
      "          20.92645263671875,\n",
      "          51.10725402832031\n",
      "        ]\n",
      "      ]\n",
      "    ],\n",
      "    \"other objects\": [\n",
      "      [\n",
      "        \"truck\",\n",
      "        [\n",
      "          604.395263671875,\n",
      "          383.51641845703125,\n",
      "          162.93304443359375,\n",
      "          125.85018920898438\n",
      "        ]\n",
      "      ],\n",
      "      [\n",
      "        \"car\",\n",
      "        [\n",
      "          229.77630615234375,\n",
      "          607.0753784179688,\n",
      "          458.03399658203125,\n",
      "          288.8590087890625\n",
      "        ]\n",
      "      ],\n",
      "      [\n",
      "        \"car\",\n",
      "        [\n",
      "          799.75341796875,\n",
      "          541.6895751953125,\n",
      "          258.2523193359375,\n",
      "          215.21075439453125\n",
      "        ]\n",
      "      ],\n",
      "      [\n",
      "        \"car\",\n",
      "        [\n",
      "          384.42779541015625,\n",
      "          524.0703735351562,\n",
      "          292.9344177246094,\n",
      "          227.09896850585938\n",
      "        ]\n",
      "      ],\n",
      "      [\n",
      "        \"car\",\n",
      "        [\n",
      "          667.0164794921875,\n",
      "          422.5401916503906,\n",
      "          62.961669921875,\n",
      "          68.593994140625\n",
      "        ]\n",
      "      ],\n",
      "      [\n",
      "        \"car\",\n",
      "        [\n",
      "          908.6331176757812,\n",
      "          511.48614501953125,\n",
      "          162.1982421875,\n",
      "          164.25704956054688\n",
      "        ]\n",
      "      ],\n",
      "      [\n",
      "        \"truck\",\n",
      "        [\n",
      "          385.32159423828125,\n",
      "          522.1015014648438,\n",
      "          290.4296875,\n",
      "          225.88595581054688\n",
      "        ]\n",
      "      ],\n",
      "      [\n",
      "        \"bus\",\n",
      "        [\n",
      "          131.00955200195312,\n",
      "          297.7414245605469,\n",
      "          55.74468231201172,\n",
      "          68.538818359375\n",
      "        ]\n",
      "      ],\n",
      "      [\n",
      "        \"car\",\n",
      "        [\n",
      "          494.78082275390625,\n",
      "          445.4158935546875,\n",
      "          67.90548706054688,\n",
      "          77.4508056640625\n",
      "        ]\n",
      "      ],\n",
      "      [\n",
      "        \"truck\",\n",
      "        [\n",
      "          127.40113830566406,\n",
      "          297.5541076660156,\n",
      "          60.723182678222656,\n",
      "          68.4881591796875\n",
      "        ]\n",
      "      ],\n",
      "      [\n",
      "        \"car\",\n",
      "        [\n",
      "          784.8856201171875,\n",
      "          439.7572326660156,\n",
      "          192.75421142578125,\n",
      "          88.52215576171875\n",
      "        ]\n",
      "      ],\n",
      "      [\n",
      "        \"car\",\n",
      "        [\n",
      "          780.431396484375,\n",
      "          455.15380859375,\n",
      "          204.36395263671875,\n",
      "          116.86929321289062\n",
      "        ]\n",
      "      ],\n",
      "      [\n",
      "        \"truck\",\n",
      "        [\n",
      "          668.3216552734375,\n",
      "          421.5522155761719,\n",
      "          66.1395263671875,\n",
      "          68.345458984375\n",
      "        ]\n",
      "      ],\n",
      "      [\n",
      "        \"truck\",\n",
      "        [\n",
      "          276.6976318359375,\n",
      "          307.321533203125,\n",
      "          138.41983032226562,\n",
      "          132.14898681640625\n",
      "        ]\n",
      "      ],\n",
      "      [\n",
      "        \"car\",\n",
      "        [\n",
      "          788.2650146484375,\n",
      "          422.806640625,\n",
      "          185.43743896484375,\n",
      "          53.990753173828125\n",
      "        ]\n",
      "      ],\n",
      "      [\n",
      "        \"car\",\n",
      "        [\n",
      "          454.7225646972656,\n",
      "          443.1373291015625,\n",
      "          148.11077880859375,\n",
      "          80.43325805664062\n",
      "        ]\n",
      "      ]\n",
      "    ]\n",
      "  }\n",
      "}\n"
     ]
    }
   ],
   "source": [
    "results = {}\n",
    "labels_traffic_light = [\"green\", \"none\", \"red\", \"yellow\"]\n",
    "prepredicted_objects = [\"stop sign\", \"traffic light\"]\n",
    "print(image_paths)\n",
    "for image_index, image_path in enumerate(image_paths):\n",
    "    results[image_path] = {\"traffic signs\": [], \"traffic lights\": [], \"other objects\": []}\n",
    "    ## Detect traffic signs\n",
    "    res_traffic_sign_detection = model_traffic_sign_detection.predict(image_path, confidence=40, overlap=30).json()\n",
    "    if len(res_traffic_sign_detection['predictions']) != 0:\n",
    "        # Detect traffic sign type\n",
    "        cropped_images = get_cropped_images(res_traffic_sign_detection)\n",
    "        for classification_index, image in enumerate(cropped_images):\n",
    "            img = preprocess(image)\n",
    "            img = img.unsqueeze(0)\n",
    "            res_traffic_sign_classification = model_traffic_sign_classification(img)\n",
    "            _, index = torch.max(res_traffic_sign_classification, 1)\n",
    "            results[image_path][\"traffic signs\"].append(\n",
    "                (\n",
    "                    labels_traffic_sign[str(int(index[0]))],\n",
    "                    [\n",
    "                        res_traffic_sign_detection[\"predictions\"][classification_index][\"x\"] -  res_traffic_sign_detection[\"predictions\"][classification_index][\"width\"] / 2,\n",
    "                        res_traffic_sign_detection[\"predictions\"][classification_index][\"y\"] -  res_traffic_sign_detection[\"predictions\"][classification_index][\"height\"] / 2,\n",
    "                        res_traffic_sign_detection[\"predictions\"][classification_index][\"width\"],\n",
    "                        res_traffic_sign_detection[\"predictions\"][classification_index][\"height\"]\n",
    "                     ],\n",
    "                 )\n",
    "            )\n",
    "    # Detect other objects\n",
    "    img = cv2.imread(image_path)\n",
    "    res = model_yolov8n.predict(img, save=True)\n",
    "    traffic_light_boxes = np.array(cu.extract_boxes(res, 9, target_size=(74, 147)))\n",
    "    pred_trafffic_lights = model_traffic_light_classification.predict(traffic_light_boxes)\n",
    "    for r in res:\n",
    "        for i, id in enumerate(r.boxes.cls.cpu().numpy()):\n",
    "            if labels_yolov8n[str(int(id))] not in prepredicted_objects:\n",
    "                results[image_path][\"other objects\"].append(\n",
    "                    (\n",
    "                        labels_yolov8n[str(int(id))],\n",
    "                        r.boxes.xywh.cpu().numpy().tolist()[i]\n",
    "                    )\n",
    "                )\n",
    "            elif labels_yolov8n[str(int(id))] == \"traffic light\":\n",
    "                # Detect traffic light type  \n",
    "                # pred_trafffic_lights = model_traffic_light_classification.predict(traffic_light_boxes)\n",
    "                for i in range(pred_trafffic_lights.shape[0]):\n",
    "                    results[image_path][\"traffic lights\"].append(\n",
    "                        (\n",
    "                            labels_traffic_light[np.argmax(pred_trafffic_lights[i])],\n",
    "                            r.boxes.xywh.cpu().numpy().tolist()[i]\n",
    "                        )\n",
    "                    )\n",
    "print(json.dumps(results, indent=2))"
   ]
  },
  {
   "cell_type": "markdown",
   "id": "a80d7f437a8d28cd",
   "metadata": {
    "collapsed": false
   },
   "source": [
    "# Print the results"
   ]
  },
  {
   "cell_type": "code",
   "execution_count": 30,
   "id": "b8f608f3a568cbf9",
   "metadata": {
    "collapsed": false,
    "ExecuteTime": {
     "end_time": "2023-08-17T11:54:01.290509709Z",
     "start_time": "2023-08-17T11:54:01.248077284Z"
    }
   },
   "outputs": [],
   "source": [
    "\n",
    "def display_bounding_boxes(image_paths, labels, bounding_boxes):\n",
    "    for image_path in image_paths:\n",
    "        image = cv2.imread(image_path)\n",
    "        img_labels = labels.get(image_path, [])\n",
    "        img_bboxes = bounding_boxes.get(image_path, [])\n",
    "\n",
    "        for label, bbox in zip(img_labels, img_bboxes):\n",
    "            x, y, w, h = bbox  # Bounding Box Koordinaten (x, y, Breite, Höhe)\n",
    "\n",
    "            # Zeichne die Bounding Box auf das Bild\n",
    "            cv2.rectangle(image, (int(x), int(y)), (int(x + w), int(y + h)), (0, 255, 0), 2)\n",
    "\n",
    "            # Beschrifte die Bounding Box mit dem Label\n",
    "            cv2.putText(image, label, (int(x), int(y) - 10), cv2.FONT_HERSHEY_SIMPLEX, 0.5, (0, 255, 0), 2)\n",
    "\n",
    "        # Zeige das Bild mit den Bounding Boxes und Labels an\n",
    "        cv2.imshow(\"Bounding Boxes with Labels\", image)\n",
    "        cv2.waitKey(0)\n",
    "\n",
    "    cv2.destroyAllWindows()"
   ]
  },
  {
   "cell_type": "code",
   "execution_count": 32,
   "outputs": [],
   "source": [
    "def convert_to_arrays(data_structure):\n",
    "    labels = {}\n",
    "    boxes = {}\n",
    "\n",
    "    for key, image_data in data_structure.items():\n",
    "        labels[key] = []\n",
    "        boxes[key] = []\n",
    "\n",
    "        for object_type, objects in image_data.items():\n",
    "            for label, bbox in objects:\n",
    "                labels[key].append(label)\n",
    "                boxes[key].append(bbox)\n",
    "\n",
    "    return labels, boxes"
   ],
   "metadata": {
    "collapsed": false,
    "ExecuteTime": {
     "end_time": "2023-08-17T11:56:31.453764268Z",
     "start_time": "2023-08-17T11:56:31.413349140Z"
    }
   },
   "id": "61ae442d6dadfb68"
  },
  {
   "cell_type": "code",
   "execution_count": 33,
   "id": "94931bc89128a94e",
   "metadata": {
    "collapsed": false,
    "ExecuteTime": {
     "end_time": "2023-08-17T11:56:33.386762301Z",
     "start_time": "2023-08-17T11:56:33.290095891Z"
    }
   },
   "outputs": [
    {
     "ename": "error",
     "evalue": "OpenCV(4.8.0) /io/opencv/modules/highgui/src/window.cpp:1272: error: (-2:Unspecified error) The function is not implemented. Rebuild the library with Windows, GTK+ 2.x or Cocoa support. If you are on Ubuntu or Debian, install libgtk2.0-dev and pkg-config, then re-run cmake or configure script in function 'cvShowImage'\n",
     "output_type": "error",
     "traceback": [
      "\u001B[0;31m---------------------------------------------------------------------------\u001B[0m",
      "\u001B[0;31merror\u001B[0m                                     Traceback (most recent call last)",
      "Cell \u001B[0;32mIn[33], line 2\u001B[0m\n\u001B[1;32m      1\u001B[0m labels, boxes \u001B[38;5;241m=\u001B[39m convert_to_arrays(results)\n\u001B[0;32m----> 2\u001B[0m \u001B[43mdisplay_bounding_boxes\u001B[49m\u001B[43m(\u001B[49m\u001B[43mimage_paths\u001B[49m\u001B[43m,\u001B[49m\u001B[43m \u001B[49m\u001B[43mlabels\u001B[49m\u001B[43m,\u001B[49m\u001B[43m \u001B[49m\u001B[43mboxes\u001B[49m\u001B[43m)\u001B[49m\n",
      "Cell \u001B[0;32mIn[30], line 17\u001B[0m, in \u001B[0;36mdisplay_bounding_boxes\u001B[0;34m(image_paths, labels, bounding_boxes)\u001B[0m\n\u001B[1;32m     14\u001B[0m         cv2\u001B[38;5;241m.\u001B[39mputText(image, label, (\u001B[38;5;28mint\u001B[39m(x), \u001B[38;5;28mint\u001B[39m(y) \u001B[38;5;241m-\u001B[39m \u001B[38;5;241m10\u001B[39m), cv2\u001B[38;5;241m.\u001B[39mFONT_HERSHEY_SIMPLEX, \u001B[38;5;241m0.5\u001B[39m, (\u001B[38;5;241m0\u001B[39m, \u001B[38;5;241m255\u001B[39m, \u001B[38;5;241m0\u001B[39m), \u001B[38;5;241m2\u001B[39m)\n\u001B[1;32m     16\u001B[0m     \u001B[38;5;66;03m# Zeige das Bild mit den Bounding Boxes und Labels an\u001B[39;00m\n\u001B[0;32m---> 17\u001B[0m     \u001B[43mcv2\u001B[49m\u001B[38;5;241;43m.\u001B[39;49m\u001B[43mimshow\u001B[49m\u001B[43m(\u001B[49m\u001B[38;5;124;43m\"\u001B[39;49m\u001B[38;5;124;43mBounding Boxes with Labels\u001B[39;49m\u001B[38;5;124;43m\"\u001B[39;49m\u001B[43m,\u001B[49m\u001B[43m \u001B[49m\u001B[43mimage\u001B[49m\u001B[43m)\u001B[49m\n\u001B[1;32m     18\u001B[0m     cv2\u001B[38;5;241m.\u001B[39mwaitKey(\u001B[38;5;241m0\u001B[39m)\n\u001B[1;32m     20\u001B[0m cv2\u001B[38;5;241m.\u001B[39mdestroyAllWindows()\n",
      "\u001B[0;31merror\u001B[0m: OpenCV(4.8.0) /io/opencv/modules/highgui/src/window.cpp:1272: error: (-2:Unspecified error) The function is not implemented. Rebuild the library with Windows, GTK+ 2.x or Cocoa support. If you are on Ubuntu or Debian, install libgtk2.0-dev and pkg-config, then re-run cmake or configure script in function 'cvShowImage'\n"
     ]
    }
   ],
   "source": [
    "labels, boxes = convert_to_arrays(results)\n",
    "display_bounding_boxes(image_paths, labels, boxes)"
   ]
  },
  {
   "cell_type": "markdown",
   "id": "f939725abc7d3289",
   "metadata": {
    "collapsed": false
   },
   "source": [
    "# Some statistics"
   ]
  },
  {
   "cell_type": "markdown",
   "id": "1deab59b74327635",
   "metadata": {
    "collapsed": false
   },
   "source": []
  }
 ],
 "metadata": {
  "kernelspec": {
   "display_name": ".venv",
   "language": "python",
   "name": "python3"
  },
  "language_info": {
   "codemirror_mode": {
    "name": "ipython",
    "version": 3
   },
   "file_extension": ".py",
   "mimetype": "text/x-python",
   "name": "python",
   "nbconvert_exporter": "python",
   "pygments_lexer": "ipython3",
   "version": "3.10.12"
  }
 },
 "nbformat": 4,
 "nbformat_minor": 5
}
